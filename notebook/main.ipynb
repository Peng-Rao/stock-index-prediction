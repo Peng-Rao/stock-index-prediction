{
 "cells": [
  {
   "cell_type": "code",
   "execution_count": null,
   "metadata": {
    "ExecuteTime": {
     "end_time": "2024-04-25T15:24:19.607716Z",
     "start_time": "2024-04-25T15:24:18.883367Z"
    },
    "notebookRunGroups": {
     "groupValue": ""
    }
   },
   "outputs": [],
   "source": [
    "import warnings\n",
    "\n",
    "import lightning.pytorch as pl\n",
    "import matplotlib.pyplot as plt\n",
    "import numpy as np\n",
    "import pandas as pd\n",
    "import torch\n",
    "import torch.nn as nn\n",
    "import torch.nn.functional as F\n",
    "from lightning.pytorch.callbacks import RichProgressBar\n",
    "from pytorch_forecasting import TimeSeriesDataSet\n",
    "from pytorch_lightning.loggers import TensorBoardLogger\n",
    "from sklearn.metrics import (\n",
    "    explained_variance_score,\n",
    "    mean_absolute_error,\n",
    "    mean_squared_error,\n",
    "    mean_squared_log_error,\n",
    "    median_absolute_error,\n",
    "    r2_score,\n",
    ")\n",
    "from sklearn.model_selection import train_test_split\n",
    "from sklearn.preprocessing import MinMaxScaler, StandardScaler\n",
    "from sklearn.svm import SVR\n",
    "from torch.autograd import Variable\n",
    "from torchinfo import summary\n",
    "from torchmetrics import (\n",
    "    ExplainedVariance,\n",
    "    MeanAbsoluteError,\n",
    "    MeanSquaredError,\n",
    "    R2Score,\n",
    ")\n",
    "\n",
    "warnings.filterwarnings(\"ignore\")\n",
    "\n",
    "# config\n",
    "%matplotlib inline\n",
    "%config InlineBackend.figure_format='retina'"
   ]
  },
  {
   "cell_type": "markdown",
   "metadata": {},
   "source": [
    "### 读取数据集\n"
   ]
  },
  {
   "cell_type": "code",
   "execution_count": null,
   "metadata": {
    "ExecuteTime": {
     "end_time": "2024-04-25T15:24:20.468665Z",
     "start_time": "2024-04-25T15:24:20.457143Z"
    }
   },
   "outputs": [],
   "source": [
    "nsdk_data = pd.read_csv(\"../data/A纳斯达克综合指数.csv\", index_col=0, parse_dates=True)\n",
    "dqs_data = pd.read_csv(\"../data/A道琼斯工业平均指数.csv\", index_col=0, parse_dates=True)\n",
    "bzpr_data = pd.read_csv(\"../data/A标准普尔500指数.csv\", index_col=0, parse_dates=True)\n",
    "sh_data = pd.read_csv(\"../data/A上证指数.csv\", index_col=0, parse_dates=True)\n",
    "sz_data = pd.read_csv(\"../data/A深证指数.csv\", index_col=0, parse_dates=True)\n",
    "cyb_data = pd.read_csv(\"../data/A创业板指数.csv\", index_col=0, parse_dates=True)"
   ]
  },
  {
   "cell_type": "code",
   "execution_count": null,
   "metadata": {
    "ExecuteTime": {
     "end_time": "2024-04-25T15:24:35.958541Z",
     "start_time": "2024-04-25T15:24:34.926721Z"
    }
   },
   "outputs": [],
   "source": [
    "stock_market = [0, nsdk_data, dqs_data, bzpr_data, sh_data, sz_data, cyb_data]\n",
    "stock_name = [\n",
    "    \"\",\n",
    "    \"Nasdaq Composite Index\",\n",
    "    \"DowJones Industrial Average Index\",\n",
    "    \"S&P 500 Index\",\n",
    "    \"Shanghai Composite Index\",\n",
    "    \"Shenzhen Index\",\n",
    "    \"ChiNext Index\",\n",
    "]\n",
    "\n",
    "features_one = [\"Open\", \"High\", \"Low\", \"Volume\"]\n",
    "features_two = [\n",
    "    \"open\",\n",
    "    \"high\",\n",
    "    \"low\",\n",
    "    \"volume\",\n",
    "    \"price_change\",\n",
    "    \"p_change\",\n",
    "    \"ma5\",\n",
    "    \"ma10\",\n",
    "    \"ma20\",\n",
    "    \"v_ma5\",\n",
    "    \"v_ma10\",\n",
    "    \"v_ma20\",\n",
    "]"
   ]
  },
  {
   "cell_type": "markdown",
   "metadata": {},
   "source": [
    "### DataModule\n"
   ]
  },
  {
   "cell_type": "markdown",
   "metadata": {},
   "source": [
    "#### Univariate Time Series"
   ]
  },
  {
   "cell_type": "code",
   "execution_count": null,
   "metadata": {},
   "outputs": [],
   "source": [
    "class UnivariateSeriesDataModule(pl.LightningDataModule):\n",
    "    def __init__(\n",
    "        self,\n",
    "        data: pd.DataFrame,\n",
    "        n_lags: int,\n",
    "        horizon: int,\n",
    "        test_size: float = 0.2,\n",
    "        batch_size: int = 16,\n",
    "        feature_name: str = \"\",\n",
    "    ) -> None:\n",
    "        super().__init__()\n",
    "        self.data = data\n",
    "        self.n_lags = n_lags\n",
    "        self.horizon = horizon\n",
    "        self.test_size = test_size\n",
    "        self.batch_size = batch_size\n",
    "        self.feature_name = feature_name\n",
    "        self.training: TimeSeriesDataSet\n",
    "        self.validation: TimeSeriesDataSet\n",
    "        self.test: TimeSeriesDataSet\n",
    "        self.predict: TimeSeriesDataSet\n",
    "        self.target_scaler = MinMaxScaler()\n",
    "        self.setup()\n",
    "\n",
    "    def preprocess_data(self):\n",
    "        self.data[\"target\"] = self.data[self.feature_name]\n",
    "        self.data[\"time_index\"] = np.arange(len(self.data))\n",
    "        self.data[\"group_id\"] = 0\n",
    "\n",
    "    def split_data(self):\n",
    "        time_indices = self.data[\"time_index\"].values\n",
    "        train_indices, test_indices = train_test_split(\n",
    "            time_indices, test_size=self.test_size, shuffle=False\n",
    "        )\n",
    "        train_indices, val_indices = train_test_split(\n",
    "            train_indices, test_size=0.1, shuffle=False\n",
    "        )\n",
    "        return train_indices, val_indices, test_indices\n",
    "\n",
    "    def scale_target(self, df, indices):\n",
    "        scaled_values = self.target_scaler.transform(df.loc[indices, [\"target\"]])\n",
    "        df.loc[indices, \"target\"] = scaled_values\n",
    "\n",
    "    def setup(self, stage=None) -> None:\n",
    "        self.preprocess_data()\n",
    "        train_indices, val_indices, test_indices = self.split_data()\n",
    "\n",
    "        train_df = self.data.loc[self.data[\"time_index\"].isin(train_indices)]\n",
    "        val_df = self.data.loc[self.data[\"time_index\"].isin(val_indices)]\n",
    "        test_df = self.data.loc[self.data[\"time_index\"].isin(test_indices)]\n",
    "        predict_df = pd.concat([train_df, val_df, test_df])\n",
    "\n",
    "        self.target_scaler.fit(train_df[[\"target\"]])\n",
    "        self.scale_target(train_df, train_df.index)\n",
    "        self.scale_target(val_df, val_df.index)\n",
    "        self.scale_target(test_df, test_df.index)\n",
    "\n",
    "        self.training = TimeSeriesDataSet(\n",
    "            train_df,\n",
    "            time_idx=\"time_index\",\n",
    "            target=\"target\",\n",
    "            group_ids=[\"group_id\"],\n",
    "            max_encoder_length=self.n_lags,\n",
    "            max_prediction_length=self.horizon,\n",
    "            time_varying_unknown_reals=[self.feature_name],\n",
    "            scalers={name: MinMaxScaler() for name in self.feature_name},\n",
    "        )\n",
    "        self.validation = TimeSeriesDataSet.from_dataset(\n",
    "            self.training, val_df, stop_randomization=True\n",
    "        )\n",
    "        self.test = TimeSeriesDataSet.from_dataset(\n",
    "            self.training, test_df, stop_randomization=True\n",
    "        )\n",
    "        self.predict = TimeSeriesDataSet.from_dataset(\n",
    "            self.training, predict_df, stop_randomization=True\n",
    "        )\n",
    "\n",
    "    def train_dataloader(self):\n",
    "        return self.training.to_dataloader(\n",
    "            batch_size=self.batch_size,\n",
    "            shuffle=True,\n",
    "        )\n",
    "\n",
    "    def val_dataloader(self):\n",
    "        return self.validation.to_dataloader(\n",
    "            batch_size=self.batch_size,\n",
    "            shuffle=False,\n",
    "        )\n",
    "\n",
    "    def test_dataloader(self):\n",
    "        return self.test.to_dataloader(\n",
    "            batch_size=self.batch_size,\n",
    "            shuffle=False,\n",
    "        )\n",
    "\n",
    "    def predict_dataloader(self):\n",
    "        return self.predict.to_dataloader(\n",
    "            batch_size=self.batch_size,\n",
    "            shuffle=False,\n",
    "        )"
   ]
  },
  {
   "cell_type": "markdown",
   "metadata": {},
   "source": [
    "#### Multivariate Time Series"
   ]
  },
  {
   "cell_type": "code",
   "execution_count": null,
   "metadata": {},
   "outputs": [],
   "source": [
    "class MultivariateSeriesDataModule(pl.LightningDataModule):\n",
    "    def __init__(\n",
    "        self,\n",
    "        data: pd.DataFrame,\n",
    "        n_lags: int,\n",
    "        horizon: int,\n",
    "        test_size: float = 0.2,\n",
    "        batch_size: int = 16,\n",
    "        target_name: str = \"\",\n",
    "    ):\n",
    "        super().__init__()\n",
    "        self.data = data\n",
    "        self.feature_names = [col for col in data.columns if col != target_name]\n",
    "        self.batch_size = batch_size\n",
    "        self.test_size = test_size\n",
    "        self.n_lags = n_lags\n",
    "        self.horizon = horizon\n",
    "        self.target_name = target_name\n",
    "        self.target_scaler = MinMaxScaler()\n",
    "        self.training: TimeSeriesDataSet\n",
    "        self.validation: TimeSeriesDataSet\n",
    "        self.test: TimeSeriesDataSet\n",
    "        self.predict: TimeSeriesDataSet\n",
    "        self.setup()\n",
    "\n",
    "    def preprocess_data(self):\n",
    "        self.data[\"target\"] = self.data[self.target_name]\n",
    "        self.data[\"time_index\"] = np.arange(len(self.data))\n",
    "        self.data[\"group_id\"] = 0\n",
    "\n",
    "    def split_data(self):\n",
    "        time_indices = self.data[\"time_index\"].values\n",
    "        train_indices, test_indices = train_test_split(\n",
    "            time_indices, test_size=self.test_size, shuffle=False\n",
    "        )\n",
    "        train_indices, val_indices = train_test_split(\n",
    "            train_indices, test_size=0.1, shuffle=False\n",
    "        )\n",
    "        return train_indices, val_indices, test_indices\n",
    "\n",
    "    def scale_target(self, df, indices):\n",
    "        scaled_values = self.target_scaler.transform(df.loc[indices, [\"target\"]])\n",
    "        df.loc[indices, \"target\"] = scaled_values\n",
    "\n",
    "    def setup(self, stage=None):\n",
    "        self.preprocess_data()\n",
    "        train_indices, val_indices, test_indices = self.split_data()\n",
    "\n",
    "        train_df = self.data.loc[self.data[\"time_index\"].isin(train_indices)]\n",
    "        val_df = self.data.loc[self.data[\"time_index\"].isin(val_indices)]\n",
    "        test_df = self.data.loc[self.data[\"time_index\"].isin(test_indices)]\n",
    "        predict_df = pd.concat([train_df, val_df, test_df])\n",
    "\n",
    "        self.target_scaler.fit(train_df[[\"target\"]])\n",
    "        self.scale_target(train_df, train_df.index)\n",
    "        self.scale_target(val_df, val_df.index)\n",
    "        self.scale_target(test_df, test_df.index)\n",
    "\n",
    "        train_df = train_df.drop(self.target_name, axis=1)\n",
    "        val_df = val_df.drop(self.target_name, axis=1)\n",
    "        test_df = test_df.drop(self.target_name, axis=1)\n",
    "\n",
    "        self.training = TimeSeriesDataSet(\n",
    "            train_df,\n",
    "            time_idx=\"time_index\",\n",
    "            target=\"target\",\n",
    "            group_ids=[\"group_id\"],\n",
    "            max_encoder_length=self.n_lags,\n",
    "            max_prediction_length=self.horizon,\n",
    "            time_varying_unknown_reals=self.feature_names,\n",
    "            scalers={name: MinMaxScaler() for name in self.feature_names},\n",
    "        )\n",
    "        self.validation = TimeSeriesDataSet.from_dataset(\n",
    "            self.training, val_df, stop_randomization=True\n",
    "        )\n",
    "        self.test = TimeSeriesDataSet.from_dataset(\n",
    "            self.training, test_df, stop_randomization=True\n",
    "        )\n",
    "        self.predict = TimeSeriesDataSet.from_dataset(\n",
    "            self.training, predict_df, stop_randomization=True\n",
    "        )\n",
    "\n",
    "    def train_dataloader(self):\n",
    "        return self.training.to_dataloader(batch_size=self.batch_size, shuffle=True)\n",
    "\n",
    "    def val_dataloader(self):\n",
    "        return self.validation.to_dataloader(batch_size=self.batch_size, shuffle=False)\n",
    "\n",
    "    def test_dataloader(self):\n",
    "        return self.test.to_dataloader(batch_size=self.batch_size, shuffle=False)\n",
    "\n",
    "    def predict_dataloader(self):\n",
    "        return self.predict.to_dataloader(batch_size=1, shuffle=False)"
   ]
  },
  {
   "cell_type": "markdown",
   "metadata": {},
   "source": [
    "### LSTM Model\n"
   ]
  },
  {
   "cell_type": "code",
   "execution_count": null,
   "metadata": {},
   "outputs": [],
   "source": [
    "class MultivariateLSTM(pl.LightningModule):\n",
    "    def __init__(self, input_dim, hidden_dim, num_layers, output_dim, lr=0.001):\n",
    "        super().__init__()\n",
    "        self.hidden_dim = hidden_dim\n",
    "        self.lr = lr\n",
    "        self.lstm = nn.LSTM(\n",
    "            input_size=input_dim,\n",
    "            hidden_size=hidden_dim,\n",
    "            num_layers=num_layers,\n",
    "            batch_first=True,\n",
    "        )\n",
    "        self.fc1 = nn.Linear(in_features=hidden_dim, out_features=16)\n",
    "        self.fc2 = nn.Linear(in_features=16, out_features=output_dim)\n",
    "\n",
    "        self.mse = MeanSquaredError()\n",
    "        self.mae = MeanAbsoluteError()\n",
    "        self.evs = ExplainedVariance()\n",
    "        self.r2 = R2Score()\n",
    "\n",
    "    def forward(self, x):\n",
    "        out, _ = self.lstm(x)\n",
    "        out = out[:, -1, :]\n",
    "        out = self.fc1(out)\n",
    "        out = self.fc2(out)\n",
    "        return out\n",
    "\n",
    "    def training_step(self, batch, batch_idx):\n",
    "        x, y = batch\n",
    "        y_pred = self(x[\"encoder_cont\"])\n",
    "        loss = F.mse_loss(y_pred, y[0])\n",
    "        self.log(\"train_loss\", loss)\n",
    "        self.log(\"train_mse\", self.mse(y_pred, y[0]))\n",
    "        self.log(\"train_mae\", self.mae(y_pred, y[0]))\n",
    "        self.log(\"train_evs\", self.evs(y_pred, y[0]))\n",
    "        self.log(\"train_r2\", self.r2(y_pred, y[0]))\n",
    "        return loss\n",
    "\n",
    "    def validation_step(self, batch, batch_idx):\n",
    "        x, y = batch\n",
    "        y_pred = self(x[\"encoder_cont\"])\n",
    "        loss = F.mse_loss(y_pred, y[0])\n",
    "        self.log(\"validation_loss\", loss)\n",
    "        self.log(\"validation_mse\", self.mse(y_pred, y[0]))\n",
    "        self.log(\"validation_mae\", self.mae(y_pred, y[0]))\n",
    "        self.log(\"validation_evs\", self.evs(y_pred, y[0]))\n",
    "        self.log(\"validation_r2\", self.r2(y_pred, y[0]))\n",
    "        return loss\n",
    "\n",
    "    def test_step(self, batch, batch_idx):\n",
    "        x, y = batch\n",
    "        y_pred = self(x[\"encoder_cont\"])\n",
    "        loss = F.mse_loss(y_pred, y[0])\n",
    "        self.log(\"test_loss\", loss)\n",
    "        self.log(\"test_mse\", self.mse(y_pred, y[0]))\n",
    "        self.log(\"test_mae\", self.mae(y_pred, y[0]))\n",
    "        self.log(\"test_evs\", self.evs(y_pred, y[0]))\n",
    "        self.log(\"test_r2\", self.r2(y_pred, y[0]))\n",
    "        return loss\n",
    "\n",
    "    def predict_step(self, batch, batch_idx):\n",
    "        x, y = batch\n",
    "        y_pred = self(x[\"encoder_cont\"])\n",
    "        y_pred = y_pred.detach().numpy()\n",
    "        y_pred = self.trainer.datamodule.target_scaler.inverse_transform(y_pred)\n",
    "        return y_pred\n",
    "\n",
    "    def configure_optimizers(self):\n",
    "        return torch.optim.Adam(self.parameters(), lr=self.lr)"
   ]
  },
  {
   "cell_type": "markdown",
   "metadata": {},
   "source": [
    "### CNN Model\n"
   ]
  },
  {
   "cell_type": "code",
   "execution_count": null,
   "metadata": {},
   "outputs": [],
   "source": [
    "class MultivariateCNN(pl.LightningModule):\n",
    "    def __init__(\n",
    "        self,\n",
    "        num_features: int,\n",
    "        output_dim: int,\n",
    "        hidden_dim,\n",
    "        num_layers,\n",
    "        lr: float = 0.001,\n",
    "    ):\n",
    "        super().__init__()\n",
    "        self.lr = lr\n",
    "        self.conv1d = nn.Conv1d(\n",
    "            in_channels=num_features, out_channels=32, kernel_size=3\n",
    "        )\n",
    "        self.relu = nn.ReLU()\n",
    "        self.maxpool = nn.MaxPool1d(kernel_size=3)\n",
    "        self.flatten = nn.Flatten()\n",
    "        self.fc1 = nn.Linear(\n",
    "            32 * ((num_features - 2) // 4), 64\n",
    "        )  # 计算一维卷积和池化后的大小\n",
    "        self.fc2 = nn.Linear(64, output_dim)\n",
    "\n",
    "        self.mse = MeanSquaredError()\n",
    "        self.mae = MeanAbsoluteError()\n",
    "        self.evs = ExplainedVariance()\n",
    "        self.r2 = R2Score()\n",
    "\n",
    "    def forward(self, x):\n",
    "        x = self.conv1d(x)\n",
    "        x = self.relu(x)\n",
    "        x = self.maxpool(x)\n",
    "        x = self.flatten(x)\n",
    "        x = self.fc1(x)\n",
    "        x = self.relu(x)\n",
    "        x = self.fc2(x)\n",
    "        return x\n",
    "\n",
    "    def training_step(self, batch, batch_idx):\n",
    "        x, y = batch\n",
    "        y_pred = self(x[\"encoder_cont\"].permute(0, 2, 1))\n",
    "        loss = F.mse_loss(y_pred, y[0])\n",
    "        self.log(\"train_loss\", loss)\n",
    "        self.log(\"train_mse\", self.mse(y_pred, y[0]))\n",
    "        self.log(\"train_mae\", self.mae(y_pred, y[0]))\n",
    "        self.log(\"train_evs\", self.evs(y_pred, y[0]))\n",
    "        self.log(\"train_r2\", self.r2(y_pred, y[0]))\n",
    "        return loss\n",
    "\n",
    "    def validation_step(self, batch, batch_idx):\n",
    "        x, y = batch\n",
    "        y_pred = self(x[\"encoder_cont\"].permute(0, 2, 1))\n",
    "        loss = F.mse_loss(y_pred, y[0])\n",
    "        self.log(\"validation_loss\", loss)\n",
    "        self.log(\"validation_mse\", self.mse(y_pred, y[0]))\n",
    "        self.log(\"validation_mae\", self.mae(y_pred, y[0]))\n",
    "        self.log(\"validation_evs\", self.evs(y_pred, y[0]))\n",
    "        self.log(\"validation_r2\", self.r2(y_pred, y[0]))\n",
    "        return loss\n",
    "\n",
    "    def test_step(self, batch, batch_idx):\n",
    "        x, y = batch\n",
    "        y_pred = self(x[\"encoder_cont\"].permute(0, 2, 1))\n",
    "        loss = F.mse_loss(y_pred, y[0])\n",
    "        self.log(\"test_loss\", loss)\n",
    "        self.log(\"test_mse\", self.mse(y_pred, y[0]))\n",
    "        self.log(\"test_mae\", self.mae(y_pred, y[0]))\n",
    "        self.log(\"test_evs\", self.evs(y_pred, y[0]))\n",
    "        self.log(\"test_r2\", self.r2(y_pred, y[0]))\n",
    "        return loss\n",
    "\n",
    "    def predict_step(self, batch, batch_idx):\n",
    "        x, y = batch\n",
    "        y_pred = self(x[\"encoder_cont\"].permute(0, 2, 1))\n",
    "        y_pred = y_pred.detach().numpy()\n",
    "        y_pred = self.trainer.datamodule.target_scaler.inverse_transform(y_pred)\n",
    "        return y_pred\n",
    "\n",
    "    def configure_optimizers(self):\n",
    "        return torch.optim.Adam(self.parameters(), lr=self.lr)"
   ]
  },
  {
   "cell_type": "markdown",
   "metadata": {},
   "source": [
    "### Transformer Model"
   ]
  },
  {
   "cell_type": "markdown",
   "metadata": {},
   "source": [
    "### Transformer-LSTM Model\n"
   ]
  },
  {
   "cell_type": "markdown",
   "metadata": {},
   "source": [
    "#### Positional Encoding\n"
   ]
  },
  {
   "cell_type": "code",
   "execution_count": null,
   "metadata": {},
   "outputs": [],
   "source": [
    "class PositionalEncoding(nn.Module):\n",
    "    def __init__(self, d_model, dropout=0.1, max_len=5000):\n",
    "        super().__init__()\n",
    "        self.dropout = nn.Dropout(p=dropout)\n",
    "\n",
    "        pe = torch.zeros(max_len, d_model)\n",
    "        position = torch.arange(0, max_len, dtype=torch.float).unsqueeze(1)\n",
    "        div_term = torch.exp(\n",
    "            torch.arange(0, d_model, 2).float() * (-np.log(10000.0) / d_model)\n",
    "        )\n",
    "        pe[:, 0::2] = torch.sin(position * div_term)\n",
    "        pe[:, 1::2] = torch.cos(position * div_term)\n",
    "        pe = pe.unsqueeze(0).transpose(0, 1)\n",
    "        self.register_buffer(\"pe\", pe)\n",
    "\n",
    "    def forward(self, x):\n",
    "        x = x + self.pe[: x.size(0), :]\n",
    "        return self.dropout(x)"
   ]
  },
  {
   "cell_type": "markdown",
   "metadata": {},
   "source": [
    "#### Transformer Encoder\n"
   ]
  },
  {
   "cell_type": "code",
   "execution_count": null,
   "metadata": {},
   "outputs": [],
   "source": [
    "class TransAm(pl.LightningModule):\n",
    "    def __init__(self, feature_size=64, num_layers=6, dropout=0.1):\n",
    "        super().__init__()\n",
    "        self.save_hyperparameters()\n",
    "        self.pos_encoder = PositionalEncoding(self.hparams.feature_size)\n",
    "        self.encoder_layer = nn.TransformerEncoderLayer(\n",
    "            d_model=self.hparams.feature_size, nhead=8, dropout=self.hparams.dropout\n",
    "        )\n",
    "        self.transformer_encoder = nn.TransformerEncoder(\n",
    "            self.encoder_layer, num_layers=self.hparams.num_layers\n",
    "        )\n",
    "        self.decoder = nn.Linear(self.hparams.feature_size, 1)\n",
    "        self.init_weights()\n",
    "\n",
    "    def init_weights(self):\n",
    "        initrange = 0.1\n",
    "        self.decoder.bias.data.zero_()\n",
    "        self.decoder.weight.data.uniform_(-initrange, initrange)\n",
    "\n",
    "    def forward(self, src):\n",
    "        src = self.pos_encoder(src)\n",
    "        output = self.transformer_encoder(src)\n",
    "        return output"
   ]
  },
  {
   "cell_type": "markdown",
   "metadata": {},
   "source": [
    "#### Attention\n"
   ]
  },
  {
   "cell_type": "code",
   "execution_count": null,
   "metadata": {},
   "outputs": [],
   "source": [
    "class AttentionDecoder(pl.LightningModule):\n",
    "    def __init__(self, code_hidden_size, hidden_size, time_step):\n",
    "        super().__init__()\n",
    "        self.save_hyperparameters()\n",
    "        self.code_hidden_size = code_hidden_size\n",
    "        self.hidden_size = hidden_size\n",
    "        self.T = time_step\n",
    "\n",
    "        self.attn1 = nn.Linear(\n",
    "            in_features=2 * hidden_size, out_features=code_hidden_size\n",
    "        )\n",
    "        self.attn2 = nn.Linear(\n",
    "            in_features=code_hidden_size, out_features=code_hidden_size\n",
    "        )\n",
    "        self.tanh = nn.Tanh()\n",
    "        self.attn3 = nn.Linear(in_features=code_hidden_size, out_features=1)\n",
    "        self.lstm = nn.LSTM(input_size=1, hidden_size=self.hidden_size, num_layers=1)\n",
    "        self.tilde = nn.Linear(in_features=self.code_hidden_size + 1, out_features=1)\n",
    "        self.fc1 = nn.Linear(\n",
    "            in_features=code_hidden_size + hidden_size, out_features=hidden_size\n",
    "        )\n",
    "        self.fc2 = nn.Linear(in_features=hidden_size, out_features=1)\n",
    "\n",
    "    def forward(self, h, y_seq):\n",
    "        h_ = h.transpose(0, 1)\n",
    "        batch_size = h.size(0)\n",
    "        d = self.init_variable(1, batch_size, self.hidden_size)\n",
    "        s = self.init_variable(1, batch_size, self.hidden_size)\n",
    "        h_0 = self.init_variable(1, batch_size, self.hidden_size)\n",
    "        h_ = torch.cat((h_0, h_), dim=0)\n",
    "\n",
    "        for t in range(self.T):\n",
    "            x = torch.cat((d, h_[t, :, :].unsqueeze(0)), 2)\n",
    "            h1 = self.attn1(x)\n",
    "            _, states = self.lstm(y_seq[:, t].unsqueeze(0).unsqueeze(2), (h1, s))\n",
    "            d = states[0]\n",
    "            s = states[1]\n",
    "        y_res = self.fc2(self.fc1(torch.cat((d.squeeze(0), h_[-1, :, :]), dim=1)))\n",
    "        return y_res\n",
    "\n",
    "    def init_variable(self, *args):\n",
    "        zero_tensor = torch.zeros(args)\n",
    "        return Variable(zero_tensor)\n",
    "\n",
    "    def embedding_hidden(self, x):\n",
    "        return x.permute(1, 0, 2)"
   ]
  },
  {
   "cell_type": "markdown",
   "metadata": {},
   "source": [
    "#### Transformer-LSTM Model\n"
   ]
  },
  {
   "cell_type": "code",
   "execution_count": null,
   "metadata": {},
   "outputs": [],
   "source": [
    "class TransformerLSTM(pl.LightningModule):\n",
    "    def __init__(self, time_step=10, lr=0.001):\n",
    "        super().__init__()\n",
    "        self.time_step = time_step\n",
    "        self.lr = lr\n",
    "        self.encoder = TransAm()\n",
    "        self.decoder = AttentionDecoder(\n",
    "            code_hidden_size=64, hidden_size=64, time_step=self.time_step\n",
    "        )\n",
    "\n",
    "    def forward(self, x):\n",
    "        encoded = self.encoder(x)\n",
    "        decoded = self.decoder(encoded, x)\n",
    "        return decoded\n",
    "\n",
    "    def training_step(self, batch, batch_idx):\n",
    "        x, y = batch\n",
    "        y_pred = self(x[\"encoder_cont\"])\n",
    "        y_pred = y_pred.squeeze(1)\n",
    "        loss = F.mse_loss(y_pred, y[0])\n",
    "        self.log(\"train_loss\", loss)\n",
    "        return loss\n",
    "\n",
    "    def validation_step(self, batch, batch_idx):\n",
    "        x, y = batch\n",
    "        y_pred = self(x[\"encoder_cont\"])\n",
    "\n",
    "        y_pred = y_pred.squeeze(1)\n",
    "\n",
    "        loss = F.mse_loss(y_pred, y[0])\n",
    "        self.log(\"val_loss\", loss)\n",
    "        return loss\n",
    "\n",
    "    def test_step(self, batch, batch_idx):\n",
    "        x, y = batch\n",
    "        y_pred = self(x[\"encoder_cont\"])\n",
    "        y_pred = y_pred.squeeze(1)\n",
    "        loss = F.mse_loss(y_pred, y[0])\n",
    "        self.log(\"test_loss\", loss)\n",
    "\n",
    "    def predict_step(self, batch, batch_idx, dataloader_idx=0):\n",
    "        x, y = batch\n",
    "        y_pred = self(x[\"encoder_cont\"])\n",
    "        y_pred = y_pred.squeeze(1)\n",
    "        return y_pred"
   ]
  },
  {
   "cell_type": "markdown",
   "metadata": {},
   "source": [
    "### SVR 模型，回归\n"
   ]
  },
  {
   "cell_type": "code",
   "execution_count": null,
   "metadata": {},
   "outputs": [],
   "source": [
    "stock_index = 4\n",
    "data = stock_market[stock_index]\n",
    "X, y = data[features_two], data[\"close\"]\n",
    "\n",
    "# 将数据集分成前70%作为训练集，后30%作为测试集\n",
    "X_train, X_test, y_train, y_test = train_test_split(\n",
    "    X, y, test_size=0.3, random_state=42, shuffle=False\n",
    ")\n",
    "# 特征标准化\n",
    "scaler = StandardScaler()\n",
    "X_train = scaler.fit_transform(X_train)\n",
    "X_test = scaler.transform(X_test)\n",
    "# 构建SVR模型\n",
    "svr = SVR(kernel=\"linear\")\n",
    "svr.fit(X_train, y_train)\n",
    "# 预测\n",
    "y_pred = svr.predict(X_test)\n",
    "# 评估模型\n",
    "# 计算均方误差（MSE）\n",
    "mse = mean_squared_error(y_test, y_pred)\n",
    "# 平均绝对误差（MAE）\n",
    "mae = mean_absolute_error(y_test, y_pred)\n",
    "# 均方对数误差 (MSLE)\n",
    "msle = mean_squared_log_error(y_test, y_pred)\n",
    "# 中值绝对误差 (MedAE)\n",
    "medae = median_absolute_error(y_test, y_pred)\n",
    "# 解释方差分数\n",
    "evs = explained_variance_score(y_test, y_pred)\n",
    "# R2 分数（决定系数）\n",
    "R2 = r2_score(y_test, y_pred)\n",
    "\n",
    "# 将指标存储在字典中\n",
    "metrics = {\n",
    "    \"Mean Squared Error\": mse,\n",
    "    \"Mean Absolute Error\": mae,\n",
    "    \"Median Absolute Error\": medae,\n",
    "    \"Explained Variance Score\": evs,\n",
    "    \"R2 Score\": R2,\n",
    "}\n",
    "\n",
    "# 创建一个DataFrame\n",
    "df_metrics = pd.DataFrame(list(metrics.items()), columns=[\"Metric\", \"Value\"])\n",
    "df_metrics[\"Value\"] = df_metrics[\"Value\"].round(2)\n",
    "# 显示DataFrame\n",
    "print(df_metrics)\n",
    "\n",
    "# 可视化预测结果和实际数据\n",
    "plt.figure(figsize=(20, 6))\n",
    "plt.plot(y_test.index, y_test, label=\"Actual Values\")\n",
    "plt.plot(y_test.index, y_pred, label=\"Predicted Values\")\n",
    "plt.xlabel(\"Date\")\n",
    "plt.ylabel(\"Index Values\")\n",
    "plt.title(\"Prediction vs Actual\" + \" by SVM Model - \" + stock_name[stock_index])\n",
    "plt.legend()\n",
    "plt.show()"
   ]
  },
  {
   "cell_type": "markdown",
   "metadata": {},
   "source": [
    "### 道琼斯指数\n"
   ]
  },
  {
   "cell_type": "markdown",
   "metadata": {},
   "source": [
    "#### 检查数据集\n"
   ]
  },
  {
   "cell_type": "code",
   "execution_count": null,
   "metadata": {},
   "outputs": [],
   "source": [
    "stock_index = 2\n",
    "data = stock_market[stock_index]\n",
    "\n",
    "datamodule = MultivariateSeriesDataModule(\n",
    "    data=data[features_one + [\"Close\"]],\n",
    "    n_lags=10,\n",
    "    horizon=1,\n",
    "    test_size=0.2,\n",
    "    target_name=\"Close\",\n",
    "    batch_size=16,\n",
    ")\n",
    "\n",
    "train_dataloader = datamodule.train_dataloader()\n",
    "x, y = next(iter(train_dataloader))\n",
    "# print(\"x =\", x)\n",
    "# print(\"\\ny =\", y)\n",
    "print(\"\\nsizes of x =\")\n",
    "for key, value in x.items():\n",
    "    print(f\"\\t{key} = {value.size()}\")"
   ]
  },
  {
   "cell_type": "markdown",
   "metadata": {},
   "source": [
    "#### 检查模型\n"
   ]
  },
  {
   "cell_type": "code",
   "execution_count": null,
   "metadata": {},
   "outputs": [],
   "source": [
    "model = MultivariateLSTM(\n",
    "    input_dim=len(features_one), hidden_dim=64, num_layers=2, output_dim=1, lr=0.001\n",
    ")\n",
    "summary(model, input_size=(16, 10, len(features_one)))"
   ]
  },
  {
   "cell_type": "code",
   "execution_count": null,
   "metadata": {},
   "outputs": [],
   "source": [
    "logger = TensorBoardLogger(\"lightning_logs\", name=\"downjones\")\n",
    "# early_stop_callback = EarlyStopping(\n",
    "#     monitor=\"validation_loss\", min_delta=1e-4, patience=10, verbose=False, mode=\"min\"\n",
    "# )\n",
    "# model_checkpoint = ModelCheckpoint(\n",
    "#     dirpath=\"checkpoints/downjones\",\n",
    "#     filename=\"{epoch}-{val_loss:.2f}-{other_metric:.2f}\",\n",
    "# )\n",
    "rich_progress_bar = RichProgressBar()\n",
    "trainer = pl.Trainer(\n",
    "    logger=logger,\n",
    "    # callbacks=[model_checkpoint, early_stop_callback, rich_progress_bar],\n",
    "    callbacks=[rich_progress_bar],\n",
    "    max_epochs=500,\n",
    "    accelerator=\"cpu\",\n",
    ")\n",
    "trainer.fit(model=model, datamodule=datamodule)"
   ]
  },
  {
   "cell_type": "code",
   "execution_count": null,
   "metadata": {},
   "outputs": [],
   "source": [
    "trainer.test(model=model, datamodule=datamodule)"
   ]
  },
  {
   "cell_type": "code",
   "execution_count": null,
   "metadata": {},
   "outputs": [],
   "source": [
    "trainer.validate(model=model, datamodule=datamodule)"
   ]
  },
  {
   "cell_type": "code",
   "execution_count": null,
   "metadata": {},
   "outputs": [],
   "source": [
    "prediction = trainer.predict(model=model, datamodule=datamodule)"
   ]
  },
  {
   "cell_type": "code",
   "execution_count": null,
   "metadata": {},
   "outputs": [],
   "source": [
    "prediction = np.concatenate(prediction)\n",
    "prediction = prediction.flatten()"
   ]
  },
  {
   "cell_type": "code",
   "execution_count": null,
   "metadata": {},
   "outputs": [],
   "source": [
    "actual_final = data[\"Close\"].values[-len(prediction) :]"
   ]
  },
  {
   "cell_type": "code",
   "execution_count": null,
   "metadata": {},
   "outputs": [],
   "source": [
    "temp = pd.DataFrame(zip(prediction, actual_final), columns=[\"y_pred\", \"test\"])\n",
    "# 可视化预测结果和实际数据\n",
    "plt.figure(figsize=(20, 6))\n",
    "plt.plot(temp.index, temp[\"test\"], label=\"Actual Values\")\n",
    "plt.plot(temp.index, temp[\"y_pred\"], label=\"Predicted Values\")\n",
    "plt.xlabel(\"Date\")\n",
    "plt.ylabel(\"Index Values\")\n",
    "plt.title(\"Prediction vs Actual\" + \" by LSTM Model - \" + stock_name[stock_index])\n",
    "plt.legend()\n",
    "plt.grid()\n",
    "plt.show()"
   ]
  },
  {
   "cell_type": "markdown",
   "metadata": {},
   "source": [
    "### 上证指数\n"
   ]
  },
  {
   "cell_type": "markdown",
   "metadata": {},
   "source": [
    "#### 检查数据集\n"
   ]
  },
  {
   "cell_type": "code",
   "execution_count": null,
   "metadata": {},
   "outputs": [],
   "source": [
    "stock_index = 4\n",
    "data = stock_market[stock_index]\n",
    "\n",
    "datamodule = MultivariateSeriesDataModule(\n",
    "    data=data[features_two + [\"close\"]],\n",
    "    n_lags=10,\n",
    "    horizon=1,\n",
    "    test_size=0.2,\n",
    "    target_name=\"close\",\n",
    "    batch_size=16,\n",
    ")\n",
    "\n",
    "train_dataloader = datamodule.train_dataloader()\n",
    "x, y = next(iter(train_dataloader))\n",
    "# print(\"x =\", x)\n",
    "# print(\"\\ny =\", y)\n",
    "print(\"\\nsizes of x =\")\n",
    "for key, value in x.items():\n",
    "    print(f\"\\t{key} = {value.size()}\")"
   ]
  },
  {
   "cell_type": "markdown",
   "metadata": {},
   "source": [
    "#### 检查模型\n"
   ]
  },
  {
   "cell_type": "code",
   "execution_count": null,
   "metadata": {},
   "outputs": [],
   "source": [
    "model = MultivariateCNN(\n",
    "    num_features=len(features_two), hidden_dim=64, num_layers=1, output_dim=1, lr=0.001\n",
    ")\n",
    "# model\n",
    "summary(model, input_size=(16, len(features_two), 10))"
   ]
  },
  {
   "cell_type": "code",
   "execution_count": null,
   "metadata": {},
   "outputs": [],
   "source": [
    "logger = TensorBoardLogger(\"lightning_logs\", name=\"Shanghai-Composite-Index\")\n",
    "# early_stop_callback = EarlyStopping(\n",
    "#     monitor=\"validation_loss\", min_delta=1e-4, patience=10, verbose=False, mode=\"min\"\n",
    "# )\n",
    "# model_checkpoint = ModelCheckpoint(\n",
    "#     dirpath=\"checkpoints/downjones\",\n",
    "#     filename=\"{epoch}-{val_loss:.2f}-{other_metric:.2f}\",\n",
    "# )\n",
    "rich_progress_bar = RichProgressBar()\n",
    "trainer = pl.Trainer(\n",
    "    logger=logger,\n",
    "    # callbacks=[model_checkpoint, early_stop_callback, rich_progress_bar],\n",
    "    callbacks=[rich_progress_bar],\n",
    "    max_epochs=500,\n",
    "    accelerator=\"cpu\",\n",
    ")\n",
    "trainer.fit(model=model, datamodule=datamodule)"
   ]
  },
  {
   "cell_type": "code",
   "execution_count": null,
   "metadata": {},
   "outputs": [],
   "source": [
    "trainer.test(model, datamodule=datamodule)"
   ]
  },
  {
   "cell_type": "code",
   "execution_count": null,
   "metadata": {},
   "outputs": [],
   "source": [
    "trainer.validate(model=model, datamodule=datamodule)"
   ]
  },
  {
   "cell_type": "code",
   "execution_count": null,
   "metadata": {},
   "outputs": [],
   "source": [
    "prediction = trainer.predict(model=model, datamodule=datamodule)"
   ]
  },
  {
   "cell_type": "code",
   "execution_count": null,
   "metadata": {},
   "outputs": [],
   "source": [
    "scaler = datamodule.target_scaler"
   ]
  },
  {
   "cell_type": "code",
   "execution_count": null,
   "metadata": {},
   "outputs": [],
   "source": [
    "prediction = np.concatenate(prediction)\n",
    "prediction = prediction.flatten()"
   ]
  },
  {
   "cell_type": "code",
   "execution_count": null,
   "metadata": {},
   "outputs": [],
   "source": [
    "actual_final = data[\"close\"].values[-len(prediction) :]"
   ]
  },
  {
   "cell_type": "code",
   "execution_count": null,
   "metadata": {},
   "outputs": [],
   "source": [
    "temp = pd.DataFrame(zip(prediction, actual_final), columns=[\"y_pred\", \"test\"])\n",
    "# 可视化预测结果和实际数据\n",
    "plt.figure(figsize=(20, 6))\n",
    "plt.plot(temp.index, temp[\"test\"], label=\"Actual Values\")\n",
    "plt.plot(temp.index, temp[\"y_pred\"], label=\"Predicted Values\")\n",
    "plt.xlabel(\"Date\")\n",
    "plt.ylabel(\"Index Values\")\n",
    "plt.title(\"Prediction vs Actual\" + \" by CNN Model - \" + stock_name[stock_index])\n",
    "plt.legend()\n",
    "plt.grid()\n",
    "plt.show()"
   ]
  },
  {
   "cell_type": "markdown",
   "metadata": {},
   "source": [
    "### 标准普尔 500 指数\n"
   ]
  },
  {
   "cell_type": "markdown",
   "metadata": {},
   "source": [
    "#### 检查数据集\n"
   ]
  },
  {
   "cell_type": "code",
   "execution_count": null,
   "metadata": {},
   "outputs": [],
   "source": [
    "stock_index = 3\n",
    "data = stock_market[stock_index]\n",
    "\n",
    "datamodule = UnivariateSeriesDataModule(\n",
    "    data=data,\n",
    "    n_lags=10,\n",
    "    horizon=1,\n",
    "    test_size=0.2,\n",
    "    batch_size=16,\n",
    "    feature_name=\"Close\",\n",
    ")\n",
    "\n",
    "train_dataloader = datamodule.train_dataloader()\n",
    "x, y = next(iter(train_dataloader))\n",
    "# print(\"x =\", x)\n",
    "# print(\"\\ny =\", y)\n",
    "print(\"\\nsizes of x =\")\n",
    "for key, value in x.items():\n",
    "    print(f\"\\t{key} = {value.size()}\")"
   ]
  },
  {
   "cell_type": "code",
   "execution_count": null,
   "metadata": {},
   "outputs": [],
   "source": []
  },
  {
   "cell_type": "markdown",
   "metadata": {},
   "source": [
    "#### 检查模型"
   ]
  },
  {
   "cell_type": "code",
   "execution_count": null,
   "metadata": {},
   "outputs": [],
   "source": [
    "model = TransformerLSTM(\n",
    "    time_step=10,\n",
    "    lr=0.001,\n",
    ")\n",
    "model\n",
    "# summary(model, input_size=(16, len(features_two), 10))"
   ]
  },
  {
   "cell_type": "code",
   "execution_count": null,
   "metadata": {},
   "outputs": [],
   "source": []
  }
 ],
 "metadata": {
  "kernelspec": {
   "display_name": ".venv",
   "language": "python",
   "name": "python3"
  },
  "language_info": {
   "codemirror_mode": {
    "name": "ipython",
    "version": 3
   },
   "file_extension": ".py",
   "mimetype": "text/x-python",
   "name": "python",
   "nbconvert_exporter": "python",
   "pygments_lexer": "ipython3",
   "version": "3.10.13"
  }
 },
 "nbformat": 4,
 "nbformat_minor": 2
}
