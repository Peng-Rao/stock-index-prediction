{
 "cells": [
  {
   "cell_type": "code",
   "id": "e02e2792-9e45-4da5-871a-048b33f656e2",
   "metadata": {
    "ExecuteTime": {
     "end_time": "2024-04-24T16:13:54.129025Z",
     "start_time": "2024-04-24T16:13:52.624423Z"
    }
   },
   "source": [
    "import lightning.pytorch as pl\n",
    "import numpy as np\n",
    "import pandas as pd\n",
    "import seaborn as sns\n",
    "import torch\n",
    "import torch.nn.functional as F\n",
    "import yfinance as yf\n",
    "from lightning.pytorch.callbacks import EarlyStopping, ModelCheckpoint, RichProgressBar\n",
    "from matplotlib import pyplot as plt\n",
    "from sklearn.preprocessing import MinMaxScaler\n",
    "from torch.utils.data import DataLoader, Dataset\n",
    "\n",
    "%matplotlib inline\n",
    "%config InlineBackend.figure_format='retina'"
   ],
   "outputs": [],
   "execution_count": 1
  },
  {
   "cell_type": "code",
   "id": "ce660236-d168-4e85-ba83-6b93545512da",
   "metadata": {
    "ExecuteTime": {
     "end_time": "2024-04-24T16:13:56.416378Z",
     "start_time": "2024-04-24T16:13:55.555434Z"
    }
   },
   "source": [
    "sp500 = yf.download(\"^GSPC\", period=\"max\", start=\"2010-1-1\")\n",
    "# sp500 = yf.download(\"000001.SZ\", period=\"max\", start=\"2023-1-1\")\n",
    "sp500.drop(columns=[\"Adj Close\"], inplace=True)\n",
    "sp500.head()"
   ],
   "outputs": [
    {
     "name": "stderr",
     "output_type": "stream",
     "text": [
      "[*********************100%%**********************]  1 of 1 completed\n"
     ]
    },
    {
     "data": {
      "text/plain": [
       "                   Open         High          Low        Close      Volume\n",
       "Date                                                                      \n",
       "2010-01-04  1116.560059  1133.869995  1116.560059  1132.989990  3991400000\n",
       "2010-01-05  1132.660034  1136.630005  1129.660034  1136.520020  2491020000\n",
       "2010-01-06  1135.709961  1139.189941  1133.949951  1137.140015  4972660000\n",
       "2010-01-07  1136.270020  1142.459961  1131.319946  1141.689941  5270680000\n",
       "2010-01-08  1140.520020  1145.390015  1136.219971  1144.979980  4389590000"
      ],
      "text/html": [
       "<div>\n",
       "<style scoped>\n",
       "    .dataframe tbody tr th:only-of-type {\n",
       "        vertical-align: middle;\n",
       "    }\n",
       "\n",
       "    .dataframe tbody tr th {\n",
       "        vertical-align: top;\n",
       "    }\n",
       "\n",
       "    .dataframe thead th {\n",
       "        text-align: right;\n",
       "    }\n",
       "</style>\n",
       "<table border=\"1\" class=\"dataframe\">\n",
       "  <thead>\n",
       "    <tr style=\"text-align: right;\">\n",
       "      <th></th>\n",
       "      <th>Open</th>\n",
       "      <th>High</th>\n",
       "      <th>Low</th>\n",
       "      <th>Close</th>\n",
       "      <th>Volume</th>\n",
       "    </tr>\n",
       "    <tr>\n",
       "      <th>Date</th>\n",
       "      <th></th>\n",
       "      <th></th>\n",
       "      <th></th>\n",
       "      <th></th>\n",
       "      <th></th>\n",
       "    </tr>\n",
       "  </thead>\n",
       "  <tbody>\n",
       "    <tr>\n",
       "      <th>2010-01-04</th>\n",
       "      <td>1116.560059</td>\n",
       "      <td>1133.869995</td>\n",
       "      <td>1116.560059</td>\n",
       "      <td>1132.989990</td>\n",
       "      <td>3991400000</td>\n",
       "    </tr>\n",
       "    <tr>\n",
       "      <th>2010-01-05</th>\n",
       "      <td>1132.660034</td>\n",
       "      <td>1136.630005</td>\n",
       "      <td>1129.660034</td>\n",
       "      <td>1136.520020</td>\n",
       "      <td>2491020000</td>\n",
       "    </tr>\n",
       "    <tr>\n",
       "      <th>2010-01-06</th>\n",
       "      <td>1135.709961</td>\n",
       "      <td>1139.189941</td>\n",
       "      <td>1133.949951</td>\n",
       "      <td>1137.140015</td>\n",
       "      <td>4972660000</td>\n",
       "    </tr>\n",
       "    <tr>\n",
       "      <th>2010-01-07</th>\n",
       "      <td>1136.270020</td>\n",
       "      <td>1142.459961</td>\n",
       "      <td>1131.319946</td>\n",
       "      <td>1141.689941</td>\n",
       "      <td>5270680000</td>\n",
       "    </tr>\n",
       "    <tr>\n",
       "      <th>2010-01-08</th>\n",
       "      <td>1140.520020</td>\n",
       "      <td>1145.390015</td>\n",
       "      <td>1136.219971</td>\n",
       "      <td>1144.979980</td>\n",
       "      <td>4389590000</td>\n",
       "    </tr>\n",
       "  </tbody>\n",
       "</table>\n",
       "</div>"
      ]
     },
     "execution_count": 2,
     "metadata": {},
     "output_type": "execute_result"
    }
   ],
   "execution_count": 2
  },
  {
   "cell_type": "code",
   "id": "d22d9992-9be3-4d7c-9083-75fef9b97672",
   "metadata": {
    "ExecuteTime": {
     "end_time": "2024-04-24T16:13:57.182185Z",
     "start_time": "2024-04-24T16:13:57.174810Z"
    }
   },
   "source": [
    "sp500.info()"
   ],
   "outputs": [
    {
     "name": "stdout",
     "output_type": "stream",
     "text": [
      "<class 'pandas.core.frame.DataFrame'>\n",
      "DatetimeIndex: 3600 entries, 2010-01-04 to 2024-04-23\n",
      "Data columns (total 5 columns):\n",
      " #   Column  Non-Null Count  Dtype  \n",
      "---  ------  --------------  -----  \n",
      " 0   Open    3600 non-null   float64\n",
      " 1   High    3600 non-null   float64\n",
      " 2   Low     3600 non-null   float64\n",
      " 3   Close   3600 non-null   float64\n",
      " 4   Volume  3600 non-null   int64  \n",
      "dtypes: float64(4), int64(1)\n",
      "memory usage: 168.8 KB\n"
     ]
    }
   ],
   "execution_count": 3
  },
  {
   "cell_type": "code",
   "id": "ca95d3e2-b824-40d5-9c44-c7a6bf12c58c",
   "metadata": {
    "ExecuteTime": {
     "end_time": "2024-04-24T16:13:57.627269Z",
     "start_time": "2024-04-24T16:13:57.624725Z"
    }
   },
   "source": [
    "df = sp500[\"Close\"].to_frame()"
   ],
   "outputs": [],
   "execution_count": 4
  },
  {
   "cell_type": "code",
   "id": "6447c34c-1ad8-4cef-8d57-9945c03ebf87",
   "metadata": {
    "ExecuteTime": {
     "end_time": "2024-04-24T16:13:58.000656Z",
     "start_time": "2024-04-24T16:13:57.996109Z"
    }
   },
   "source": [
    "df"
   ],
   "outputs": [
    {
     "data": {
      "text/plain": [
       "                  Close\n",
       "Date                   \n",
       "2010-01-04  1132.989990\n",
       "2010-01-05  1136.520020\n",
       "2010-01-06  1137.140015\n",
       "2010-01-07  1141.689941\n",
       "2010-01-08  1144.979980\n",
       "...                 ...\n",
       "2024-04-17  5022.209961\n",
       "2024-04-18  5011.120117\n",
       "2024-04-19  4967.229980\n",
       "2024-04-22  5010.600098\n",
       "2024-04-23  5070.549805\n",
       "\n",
       "[3600 rows x 1 columns]"
      ],
      "text/html": [
       "<div>\n",
       "<style scoped>\n",
       "    .dataframe tbody tr th:only-of-type {\n",
       "        vertical-align: middle;\n",
       "    }\n",
       "\n",
       "    .dataframe tbody tr th {\n",
       "        vertical-align: top;\n",
       "    }\n",
       "\n",
       "    .dataframe thead th {\n",
       "        text-align: right;\n",
       "    }\n",
       "</style>\n",
       "<table border=\"1\" class=\"dataframe\">\n",
       "  <thead>\n",
       "    <tr style=\"text-align: right;\">\n",
       "      <th></th>\n",
       "      <th>Close</th>\n",
       "    </tr>\n",
       "    <tr>\n",
       "      <th>Date</th>\n",
       "      <th></th>\n",
       "    </tr>\n",
       "  </thead>\n",
       "  <tbody>\n",
       "    <tr>\n",
       "      <th>2010-01-04</th>\n",
       "      <td>1132.989990</td>\n",
       "    </tr>\n",
       "    <tr>\n",
       "      <th>2010-01-05</th>\n",
       "      <td>1136.520020</td>\n",
       "    </tr>\n",
       "    <tr>\n",
       "      <th>2010-01-06</th>\n",
       "      <td>1137.140015</td>\n",
       "    </tr>\n",
       "    <tr>\n",
       "      <th>2010-01-07</th>\n",
       "      <td>1141.689941</td>\n",
       "    </tr>\n",
       "    <tr>\n",
       "      <th>2010-01-08</th>\n",
       "      <td>1144.979980</td>\n",
       "    </tr>\n",
       "    <tr>\n",
       "      <th>...</th>\n",
       "      <td>...</td>\n",
       "    </tr>\n",
       "    <tr>\n",
       "      <th>2024-04-17</th>\n",
       "      <td>5022.209961</td>\n",
       "    </tr>\n",
       "    <tr>\n",
       "      <th>2024-04-18</th>\n",
       "      <td>5011.120117</td>\n",
       "    </tr>\n",
       "    <tr>\n",
       "      <th>2024-04-19</th>\n",
       "      <td>4967.229980</td>\n",
       "    </tr>\n",
       "    <tr>\n",
       "      <th>2024-04-22</th>\n",
       "      <td>5010.600098</td>\n",
       "    </tr>\n",
       "    <tr>\n",
       "      <th>2024-04-23</th>\n",
       "      <td>5070.549805</td>\n",
       "    </tr>\n",
       "  </tbody>\n",
       "</table>\n",
       "<p>3600 rows × 1 columns</p>\n",
       "</div>"
      ]
     },
     "execution_count": 5,
     "metadata": {},
     "output_type": "execute_result"
    }
   ],
   "execution_count": 5
  },
  {
   "cell_type": "code",
   "id": "7865031b-85af-4e22-bc3a-285f0c9795b9",
   "metadata": {
    "ExecuteTime": {
     "end_time": "2024-04-24T16:13:58.461924Z",
     "start_time": "2024-04-24T16:13:58.459037Z"
    }
   },
   "source": [
    "class TimeSeriesDataset(Dataset):\n",
    "    def __init__(self, x: np.ndarray, sequence_length: int):\n",
    "        self.x = x\n",
    "        self.sequence_length = sequence_length\n",
    "\n",
    "    def __len__(self):\n",
    "        return len(self.x) - (self.sequence_length)\n",
    "\n",
    "    def __getitem__(self, idx):\n",
    "        X = torch.tensor(self.x[idx : idx + self.sequence_length]).to(\n",
    "            dtype=torch.float32\n",
    "        )\n",
    "        y = torch.tensor(self.x[idx + self.sequence_length]).to(dtype=torch.float32)\n",
    "        return X, y"
   ],
   "outputs": [],
   "execution_count": 6
  },
  {
   "cell_type": "code",
   "id": "9203437e-7014-4e27-8baf-6a5831933fef",
   "metadata": {
    "ExecuteTime": {
     "end_time": "2024-04-24T16:14:01.906334Z",
     "start_time": "2024-04-24T16:14:01.834658Z"
    }
   },
   "source": [
    "from sklearn.model_selection import train_test_split\n",
    "import os\n",
    "\n",
    "\n",
    "class StockDataModule(pl.LightningDataModule):\n",
    "    def __init__(\n",
    "        self,\n",
    "        data: pd.DataFrame,\n",
    "        sequence_length: int,\n",
    "        test_size: float = 0.2,\n",
    "        batch_size: int = 10,\n",
    "        feature_name: str = \"\",\n",
    "    ):\n",
    "        super().__init__()\n",
    "        self.data = data\n",
    "        self.sequence_length = sequence_length\n",
    "        self.test_size = test_size\n",
    "        self.batch_size = batch_size\n",
    "        self.feature_name = feature_name\n",
    "\n",
    "        self.training: Dataset\n",
    "        self.validation: Dataset\n",
    "        self.test: Dataset\n",
    "        self.predict: Dataset\n",
    "\n",
    "        self.target_scaler = MinMaxScaler()\n",
    "\n",
    "        self.setup()\n",
    "\n",
    "    def preprocess_data(self):\n",
    "        self.data[\"target\"] = self.data[self.feature_name]\n",
    "        self.data[\"time_index\"] = np.arange(len(self.data))\n",
    "\n",
    "    def split_data(self):\n",
    "        time_indices = self.data[\"time_index\"].values\n",
    "        train_indices, test_indices = train_test_split(\n",
    "            time_indices, test_size=self.test_size, shuffle=False\n",
    "        )\n",
    "        train_indices, val_indices = train_test_split(\n",
    "            train_indices, test_size=0.1, shuffle=False\n",
    "        )\n",
    "        return train_indices, val_indices, test_indices\n",
    "\n",
    "    def scale_target(self, df, indices):\n",
    "        scaled_values = self.target_scaler.transform(df.loc[indices, [\"target\"]])\n",
    "        df.loc[indices, \"target\"] = scaled_values\n",
    "\n",
    "    def setup(self, stage=None):\n",
    "        self.preprocess_data()\n",
    "        train_indices, val_indices, test_indices = self.split_data()\n",
    "        train_df = self.data.loc[self.data[\"time_index\"].isin(train_indices)]\n",
    "        val_df = self.data.loc[self.data[\"time_index\"].isin(val_indices)]\n",
    "        test_df = self.data.loc[self.data[\"time_index\"].isin(test_indices)]\n",
    "\n",
    "        self.target_scaler.fit(train_df[[\"target\"]])\n",
    "        self.scale_target(train_df, train_df.index)\n",
    "        self.scale_target(val_df, val_df.index)\n",
    "        self.scale_target(test_df, test_df.index)\n",
    "\n",
    "        self.training = TimeSeriesDataset(\n",
    "            train_df[\"target\"].to_numpy().reshape(-1, 1), self.sequence_length\n",
    "        )\n",
    "\n",
    "        self.validation = TimeSeriesDataset(\n",
    "            val_df[\"target\"].to_numpy().reshape(-1, 1), self.sequence_length\n",
    "        )\n",
    "\n",
    "        self.test = TimeSeriesDataset(\n",
    "            test_df[\"target\"].to_numpy().reshape(-1, 1), self.sequence_length\n",
    "        )\n",
    "\n",
    "        self.predict = TimeSeriesDataset(\n",
    "            pd.concat([train_df[\"target\"], val_df[\"target\"], test_df[\"target\"]])\n",
    "            .to_numpy()\n",
    "            .reshape(-1, 1),\n",
    "            self.sequence_length,\n",
    "        )\n",
    "\n",
    "    def train_dataloader(self):\n",
    "        return DataLoader(\n",
    "            self.training,\n",
    "            batch_size=self.batch_size,\n",
    "            shuffle=True,\n",
    "        )\n",
    "\n",
    "    def val_dataloader(self):\n",
    "        return DataLoader(\n",
    "            self.validation,\n",
    "            batch_size=self.batch_size,\n",
    "            shuffle=False,\n",
    "        )\n",
    "\n",
    "    def test_dataloader(self):\n",
    "        return DataLoader(\n",
    "            self.test,\n",
    "            batch_size=self.batch_size,\n",
    "            shuffle=False,\n",
    "        )\n",
    "\n",
    "    def predict_dataloader(self):\n",
    "        return DataLoader(\n",
    "            self.predict,\n",
    "            batch_size=self.batch_size,\n",
    "            shuffle=False,\n",
    "        )"
   ],
   "outputs": [],
   "execution_count": 7
  },
  {
   "cell_type": "code",
   "id": "33929d7a-6a4e-48b9-b548-fe754a03f316",
   "metadata": {
    "ExecuteTime": {
     "end_time": "2024-04-24T16:14:04.638067Z",
     "start_time": "2024-04-24T16:14:04.631455Z"
    }
   },
   "source": [
    "# Creating the LSTM model\n",
    "from torch import nn\n",
    "\n",
    "\n",
    "class LSTMModel(pl.LightningModule):\n",
    "    def __init__(\n",
    "        self,\n",
    "        input_dim: int = 1,\n",
    "        hidden_dim: int = 128,\n",
    "        num_layers: int = 2,\n",
    "        output_dim: int = 1,\n",
    "    ) -> None:\n",
    "        super().__init__()\n",
    "        self.hidden_dim = hidden_dim\n",
    "        self.lstm = nn.LSTM(input_dim, hidden_dim, num_layers, batch_first=True)\n",
    "        self.fc1 = nn.Linear(in_features=hidden_dim, out_features=16)\n",
    "        self.fc2 = nn.Linear(in_features=16, out_features=output_dim)\n",
    "\n",
    "    def forward(self, x):\n",
    "        out, _ = self.lstm(x)\n",
    "        out = out[:, -1, :]\n",
    "        out = self.fc1(out)\n",
    "        out = self.fc2(out)\n",
    "        return out\n",
    "\n",
    "    def training_step(self, batch, batch_idx):\n",
    "        x, y = batch\n",
    "        # print(x.shape)\n",
    "        output = self(x)\n",
    "        loss = F.mse_loss(output, y)\n",
    "        self.log(f\"train_loss\", loss, logger=True)\n",
    "        return loss\n",
    "\n",
    "    def test_step(self, batch, batch_idx):\n",
    "        # this is the test loop\n",
    "        x, y = batch\n",
    "        x_hat = self(x)\n",
    "        test_loss = F.mse_loss(x_hat, y)\n",
    "        self.log(\"test_loss\", test_loss, logger=True)\n",
    "\n",
    "    def validation_step(self, batch, batch_idx):\n",
    "        # this is the test loop\n",
    "        x, y = batch\n",
    "        x_hat = self(x)\n",
    "        test_loss = F.mse_loss(x_hat, y)\n",
    "        self.log(\"validation_loss\", test_loss, logger=True)\n",
    "\n",
    "    def predict_step(self, batch, batch_idx):\n",
    "        x, y = batch\n",
    "        return self(x)\n",
    "\n",
    "    def configure_optimizers(self):\n",
    "        optimiser = torch.optim.Adam(self.parameters(), lr=0.001)\n",
    "        return optimiser"
   ],
   "outputs": [],
   "execution_count": 8
  },
  {
   "cell_type": "code",
   "id": "6006f180-32fd-4bf8-82ee-d0d1b5405c08",
   "metadata": {
    "ExecuteTime": {
     "end_time": "2024-04-24T16:14:11.185536Z",
     "start_time": "2024-04-24T16:14:11.182940Z"
    }
   },
   "source": [
    "## BEST TRAINING PARAMS\n",
    "N_EPOCHS = 500\n",
    "BATCH_SIZE = 8\n",
    "SEQUENCE_LENGTH = 5\n",
    "N_HIDDEN = 64\n",
    "N_LAYERS = 1\n",
    "LR = 1e-4"
   ],
   "outputs": [],
   "execution_count": 9
  },
  {
   "cell_type": "code",
   "id": "55489cc8-93f5-4c40-8d02-534329c4520c",
   "metadata": {
    "ExecuteTime": {
     "end_time": "2024-04-24T16:14:15.396016Z",
     "start_time": "2024-04-24T16:14:15.385725Z"
    }
   },
   "source": [
    "datamodule = StockDataModule(\n",
    "    data=df,\n",
    "    sequence_length=SEQUENCE_LENGTH,\n",
    "    batch_size=BATCH_SIZE,\n",
    "    feature_name=\"Close\",\n",
    ")"
   ],
   "outputs": [],
   "execution_count": 10
  },
  {
   "cell_type": "code",
   "id": "16d62683",
   "metadata": {
    "ExecuteTime": {
     "end_time": "2024-04-24T16:14:18.223485Z",
     "start_time": "2024-04-24T16:14:18.205580Z"
    }
   },
   "source": [
    "# dataloader = datamodule.train_dataloader()\n",
    "# for x, y in dataloader:\n",
    "#     print(x.shape)\n",
    "#     print(y.shape)\n",
    "#     break"
   ],
   "outputs": [
    {
     "name": "stdout",
     "output_type": "stream",
     "text": [
      "torch.Size([8, 5, 1])\n",
      "torch.Size([8, 1])\n"
     ]
    }
   ],
   "execution_count": 11
  },
  {
   "cell_type": "code",
   "id": "b2fc2119-1786-4801-a01e-6901aadd9448",
   "metadata": {
    "ExecuteTime": {
     "end_time": "2024-04-24T16:14:24.982211Z",
     "start_time": "2024-04-24T16:14:24.976938Z"
    }
   },
   "source": [
    "model = LSTMModel(input_dim=1, hidden_dim=128, num_layers=2, output_dim=1)\n",
    "print(model)"
   ],
   "outputs": [
    {
     "name": "stdout",
     "output_type": "stream",
     "text": [
      "LSTMModel(\n",
      "  (lstm): LSTM(1, 128, num_layers=2, batch_first=True)\n",
      "  (fc1): Linear(in_features=128, out_features=16, bias=True)\n",
      "  (fc2): Linear(in_features=16, out_features=1, bias=True)\n",
      ")\n"
     ]
    }
   ],
   "execution_count": 12
  },
  {
   "cell_type": "code",
   "id": "9b4370a0",
   "metadata": {
    "ExecuteTime": {
     "end_time": "2024-04-24T16:14:36.988406Z",
     "start_time": "2024-04-24T16:14:36.968269Z"
    }
   },
   "source": [
    "from torchinfo import summary\n",
    "\n",
    "\n",
    "summary(model, input_size=(1, SEQUENCE_LENGTH, 1))"
   ],
   "outputs": [
    {
     "data": {
      "text/plain": [
       "==========================================================================================\n",
       "Layer (type:depth-idx)                   Output Shape              Param #\n",
       "==========================================================================================\n",
       "LSTMModel                                [1, 1]                    --\n",
       "├─LSTM: 1-1                              [1, 5, 128]               199,168\n",
       "├─Linear: 1-2                            [1, 16]                   2,064\n",
       "├─Linear: 1-3                            [1, 1]                    17\n",
       "==========================================================================================\n",
       "Total params: 201,249\n",
       "Trainable params: 201,249\n",
       "Non-trainable params: 0\n",
       "Total mult-adds (M): 1.00\n",
       "==========================================================================================\n",
       "Input size (MB): 0.00\n",
       "Forward/backward pass size (MB): 0.01\n",
       "Params size (MB): 0.80\n",
       "Estimated Total Size (MB): 0.81\n",
       "=========================================================================================="
      ]
     },
     "execution_count": 13,
     "metadata": {},
     "output_type": "execute_result"
    }
   ],
   "execution_count": 13
  },
  {
   "cell_type": "code",
   "id": "4aa61673-4faf-446b-95a4-675fa7e94d77",
   "metadata": {
    "ExecuteTime": {
     "end_time": "2024-04-24T16:14:53.131302Z",
     "start_time": "2024-04-24T16:14:52.899847Z"
    }
   },
   "source": [
    "from pytorch_lightning.loggers import TensorBoardLogger\n",
    "\n",
    "logger = TensorBoardLogger(\"lightning_logs\", name=\"index-prediction\")\n",
    "\n",
    "early_stop_callback = EarlyStopping(\n",
    "    monitor=\"validation_loss\", min_delta=1e-4, patience=10, verbose=False, mode=\"min\"\n",
    ")\n",
    "\n",
    "model_checkpoint = ModelCheckpoint(\n",
    "    dirpath=\"univariate-checkpoints\",\n",
    "    filename=\"{epoch}-{val_loss:.2f}-{other_metric:.2f}\",\n",
    ")\n",
    "rich_progress_bar = RichProgressBar()\n",
    "trainer = pl.Trainer(\n",
    "    logger=logger,\n",
    "    callbacks=[model_checkpoint, early_stop_callback],\n",
    "    max_epochs=N_EPOCHS,\n",
    "    accelerator=\"cpu\",\n",
    ")"
   ],
   "outputs": [
    {
     "name": "stderr",
     "output_type": "stream",
     "text": [
      "GPU available: True (mps), used: False\n",
      "TPU available: False, using: 0 TPU cores\n",
      "IPU available: False, using: 0 IPUs\n",
      "HPU available: False, using: 0 HPUs\n",
      "/Users/raopend/Workspace/stock-index-prediction/.venv/lib/python3.10/site-packages/lightning/pytorch/trainer/setup.py:187: GPU available but not used. You can set it by doing `Trainer(accelerator='gpu')`.\n"
     ]
    }
   ],
   "execution_count": 14
  },
  {
   "cell_type": "code",
   "id": "0389f507-e852-41b1-bdeb-40080773fd32",
   "metadata": {
    "ExecuteTime": {
     "end_time": "2024-04-24T16:15:20.662224Z",
     "start_time": "2024-04-24T16:14:55.652817Z"
    }
   },
   "source": [
    "trainer.fit(model=model, datamodule=datamodule)"
   ],
   "outputs": [
    {
     "name": "stderr",
     "output_type": "stream",
     "text": [
      "/Users/raopend/Workspace/stock-index-prediction/.venv/lib/python3.10/site-packages/lightning/pytorch/callbacks/model_checkpoint.py:653: Checkpoint directory /Users/raopend/Workspace/stock-index-prediction/notebook/univariate-checkpoints exists and is not empty.\n",
      "\n",
      "  | Name | Type   | Params\n",
      "--------------------------------\n",
      "0 | lstm | LSTM   | 199 K \n",
      "1 | fc1  | Linear | 2.1 K \n",
      "2 | fc2  | Linear | 17    \n",
      "--------------------------------\n",
      "201 K     Trainable params\n",
      "0         Non-trainable params\n",
      "201 K     Total params\n",
      "0.805     Total estimated model params size (MB)\n"
     ]
    },
    {
     "data": {
      "text/plain": [
       "Sanity Checking: |          | 0/? [00:00<?, ?it/s]"
      ],
      "application/vnd.jupyter.widget-view+json": {
       "version_major": 2,
       "version_minor": 0,
       "model_id": "0dc4f577eba2417eb4b1a12543d64901"
      }
     },
     "metadata": {},
     "output_type": "display_data"
    },
    {
     "name": "stderr",
     "output_type": "stream",
     "text": [
      "/Users/raopend/Workspace/stock-index-prediction/.venv/lib/python3.10/site-packages/lightning/pytorch/trainer/connectors/data_connector.py:441: The 'val_dataloader' does not have many workers which may be a bottleneck. Consider increasing the value of the `num_workers` argument` to `num_workers=7` in the `DataLoader` to improve performance.\n",
      "/Users/raopend/Workspace/stock-index-prediction/.venv/lib/python3.10/site-packages/lightning/pytorch/trainer/connectors/data_connector.py:441: The 'train_dataloader' does not have many workers which may be a bottleneck. Consider increasing the value of the `num_workers` argument` to `num_workers=7` in the `DataLoader` to improve performance.\n"
     ]
    },
    {
     "data": {
      "text/plain": [
       "Training: |          | 0/? [00:00<?, ?it/s]"
      ],
      "application/vnd.jupyter.widget-view+json": {
       "version_major": 2,
       "version_minor": 0,
       "model_id": "d18e1d58312a4de78e94baa24ec1c81f"
      }
     },
     "metadata": {},
     "output_type": "display_data"
    },
    {
     "data": {
      "text/plain": [
       "Validation: |          | 0/? [00:00<?, ?it/s]"
      ],
      "application/vnd.jupyter.widget-view+json": {
       "version_major": 2,
       "version_minor": 0,
       "model_id": "076048db7bfb4cc982ca87dd918d1a12"
      }
     },
     "metadata": {},
     "output_type": "display_data"
    },
    {
     "data": {
      "text/plain": [
       "Validation: |          | 0/? [00:00<?, ?it/s]"
      ],
      "application/vnd.jupyter.widget-view+json": {
       "version_major": 2,
       "version_minor": 0,
       "model_id": "add0b904a958461594195d8145cbef26"
      }
     },
     "metadata": {},
     "output_type": "display_data"
    },
    {
     "data": {
      "text/plain": [
       "Validation: |          | 0/? [00:00<?, ?it/s]"
      ],
      "application/vnd.jupyter.widget-view+json": {
       "version_major": 2,
       "version_minor": 0,
       "model_id": "5496d07874a246218c241c0bf2124ef5"
      }
     },
     "metadata": {},
     "output_type": "display_data"
    },
    {
     "data": {
      "text/plain": [
       "Validation: |          | 0/? [00:00<?, ?it/s]"
      ],
      "application/vnd.jupyter.widget-view+json": {
       "version_major": 2,
       "version_minor": 0,
       "model_id": "3ac3774f641947b0a54d267b111926be"
      }
     },
     "metadata": {},
     "output_type": "display_data"
    },
    {
     "data": {
      "text/plain": [
       "Validation: |          | 0/? [00:00<?, ?it/s]"
      ],
      "application/vnd.jupyter.widget-view+json": {
       "version_major": 2,
       "version_minor": 0,
       "model_id": "a46d7c88d01441259a9257a2d8e360e5"
      }
     },
     "metadata": {},
     "output_type": "display_data"
    },
    {
     "data": {
      "text/plain": [
       "Validation: |          | 0/? [00:00<?, ?it/s]"
      ],
      "application/vnd.jupyter.widget-view+json": {
       "version_major": 2,
       "version_minor": 0,
       "model_id": "c51d3adc422c4e0681e8718c1bc4042e"
      }
     },
     "metadata": {},
     "output_type": "display_data"
    },
    {
     "data": {
      "text/plain": [
       "Validation: |          | 0/? [00:00<?, ?it/s]"
      ],
      "application/vnd.jupyter.widget-view+json": {
       "version_major": 2,
       "version_minor": 0,
       "model_id": "3eb26915f95f4879a4b7b6d62e99de97"
      }
     },
     "metadata": {},
     "output_type": "display_data"
    },
    {
     "data": {
      "text/plain": [
       "Validation: |          | 0/? [00:00<?, ?it/s]"
      ],
      "application/vnd.jupyter.widget-view+json": {
       "version_major": 2,
       "version_minor": 0,
       "model_id": "1fa9a29267f843f79f15008d1940c8d0"
      }
     },
     "metadata": {},
     "output_type": "display_data"
    },
    {
     "data": {
      "text/plain": [
       "Validation: |          | 0/? [00:00<?, ?it/s]"
      ],
      "application/vnd.jupyter.widget-view+json": {
       "version_major": 2,
       "version_minor": 0,
       "model_id": "06c9a9b06b9a4a9a97445e194213d4ca"
      }
     },
     "metadata": {},
     "output_type": "display_data"
    },
    {
     "data": {
      "text/plain": [
       "Validation: |          | 0/? [00:00<?, ?it/s]"
      ],
      "application/vnd.jupyter.widget-view+json": {
       "version_major": 2,
       "version_minor": 0,
       "model_id": "d3e211fc75ed4cb6aa2adeecf7199ade"
      }
     },
     "metadata": {},
     "output_type": "display_data"
    },
    {
     "data": {
      "text/plain": [
       "Validation: |          | 0/? [00:00<?, ?it/s]"
      ],
      "application/vnd.jupyter.widget-view+json": {
       "version_major": 2,
       "version_minor": 0,
       "model_id": "1ee1b21f25b9476db510651bd5acaba1"
      }
     },
     "metadata": {},
     "output_type": "display_data"
    },
    {
     "data": {
      "text/plain": [
       "Validation: |          | 0/? [00:00<?, ?it/s]"
      ],
      "application/vnd.jupyter.widget-view+json": {
       "version_major": 2,
       "version_minor": 0,
       "model_id": "bc9a3841d5984a71b8487ba4b74a8c60"
      }
     },
     "metadata": {},
     "output_type": "display_data"
    },
    {
     "data": {
      "text/plain": [
       "Validation: |          | 0/? [00:00<?, ?it/s]"
      ],
      "application/vnd.jupyter.widget-view+json": {
       "version_major": 2,
       "version_minor": 0,
       "model_id": "bba001f5b3bb4207a826cfb179601d8b"
      }
     },
     "metadata": {},
     "output_type": "display_data"
    },
    {
     "data": {
      "text/plain": [
       "Validation: |          | 0/? [00:00<?, ?it/s]"
      ],
      "application/vnd.jupyter.widget-view+json": {
       "version_major": 2,
       "version_minor": 0,
       "model_id": "619b1f292c1f4588a15126c46c72dd7e"
      }
     },
     "metadata": {},
     "output_type": "display_data"
    },
    {
     "data": {
      "text/plain": [
       "Validation: |          | 0/? [00:00<?, ?it/s]"
      ],
      "application/vnd.jupyter.widget-view+json": {
       "version_major": 2,
       "version_minor": 0,
       "model_id": "3acb70ada46f41baa566b11b79f23f96"
      }
     },
     "metadata": {},
     "output_type": "display_data"
    }
   ],
   "execution_count": 15
  },
  {
   "cell_type": "code",
   "id": "ce60ecbb-b34a-489d-8d60-8e4207a23fdf",
   "metadata": {
    "ExecuteTime": {
     "end_time": "2024-04-24T16:15:23.531708Z",
     "start_time": "2024-04-24T16:15:23.300080Z"
    }
   },
   "source": [
    "trainer.test(model=model, datamodule=datamodule)"
   ],
   "outputs": [
    {
     "name": "stderr",
     "output_type": "stream",
     "text": [
      "/Users/raopend/Workspace/stock-index-prediction/.venv/lib/python3.10/site-packages/lightning/pytorch/trainer/connectors/data_connector.py:441: The 'test_dataloader' does not have many workers which may be a bottleneck. Consider increasing the value of the `num_workers` argument` to `num_workers=7` in the `DataLoader` to improve performance.\n"
     ]
    },
    {
     "data": {
      "text/plain": [
       "Testing: |          | 0/? [00:00<?, ?it/s]"
      ],
      "application/vnd.jupyter.widget-view+json": {
       "version_major": 2,
       "version_minor": 0,
       "model_id": "4552f42b8f014f6d85d33d30fd5b9193"
      }
     },
     "metadata": {},
     "output_type": "display_data"
    },
    {
     "data": {
      "text/plain": [
       "┏━━━━━━━━━━━━━━━━━━━━━━━━━━━┳━━━━━━━━━━━━━━━━━━━━━━━━━━━┓\n",
       "┃\u001B[1m \u001B[0m\u001B[1m       Test metric       \u001B[0m\u001B[1m \u001B[0m┃\u001B[1m \u001B[0m\u001B[1m      DataLoader 0       \u001B[0m\u001B[1m \u001B[0m┃\n",
       "┡━━━━━━━━━━━━━━━━━━━━━━━━━━━╇━━━━━━━━━━━━━━━━━━━━━━━━━━━┩\n",
       "│\u001B[36m \u001B[0m\u001B[36m        test_loss        \u001B[0m\u001B[36m \u001B[0m│\u001B[35m \u001B[0m\u001B[35m  0.017496826127171516   \u001B[0m\u001B[35m \u001B[0m│\n",
       "└───────────────────────────┴───────────────────────────┘\n"
      ],
      "text/html": [
       "<pre style=\"white-space:pre;overflow-x:auto;line-height:normal;font-family:Menlo,'DejaVu Sans Mono',consolas,'Courier New',monospace\">┏━━━━━━━━━━━━━━━━━━━━━━━━━━━┳━━━━━━━━━━━━━━━━━━━━━━━━━━━┓\n",
       "┃<span style=\"font-weight: bold\">        Test metric        </span>┃<span style=\"font-weight: bold\">       DataLoader 0        </span>┃\n",
       "┡━━━━━━━━━━━━━━━━━━━━━━━━━━━╇━━━━━━━━━━━━━━━━━━━━━━━━━━━┩\n",
       "│<span style=\"color: #008080; text-decoration-color: #008080\">         test_loss         </span>│<span style=\"color: #800080; text-decoration-color: #800080\">   0.017496826127171516    </span>│\n",
       "└───────────────────────────┴───────────────────────────┘\n",
       "</pre>\n"
      ]
     },
     "metadata": {},
     "output_type": "display_data"
    },
    {
     "data": {
      "text/plain": [
       "[{'test_loss': 0.017496826127171516}]"
      ]
     },
     "execution_count": 16,
     "metadata": {},
     "output_type": "execute_result"
    }
   ],
   "execution_count": 16
  },
  {
   "cell_type": "code",
   "id": "9bded0e6-dc8d-4322-8cf2-5c5ba356815b",
   "metadata": {
    "ExecuteTime": {
     "end_time": "2024-04-24T16:15:31.132661Z",
     "start_time": "2024-04-24T16:15:31.018723Z"
    }
   },
   "source": [
    "trainer.validate(model=model, datamodule=datamodule)"
   ],
   "outputs": [
    {
     "name": "stderr",
     "output_type": "stream",
     "text": [
      "/Users/raopend/Workspace/stock-index-prediction/.venv/lib/python3.10/site-packages/lightning/pytorch/trainer/connectors/data_connector.py:441: The 'val_dataloader' does not have many workers which may be a bottleneck. Consider increasing the value of the `num_workers` argument` to `num_workers=7` in the `DataLoader` to improve performance.\n"
     ]
    },
    {
     "data": {
      "text/plain": [
       "Validation: |          | 0/? [00:00<?, ?it/s]"
      ],
      "application/vnd.jupyter.widget-view+json": {
       "version_major": 2,
       "version_minor": 0,
       "model_id": "edaeff24201e4cbc8832dd132fc43064"
      }
     },
     "metadata": {},
     "output_type": "display_data"
    },
    {
     "data": {
      "text/plain": [
       "┏━━━━━━━━━━━━━━━━━━━━━━━━━━━┳━━━━━━━━━━━━━━━━━━━━━━━━━━━┓\n",
       "┃\u001B[1m \u001B[0m\u001B[1m     Validate metric     \u001B[0m\u001B[1m \u001B[0m┃\u001B[1m \u001B[0m\u001B[1m      DataLoader 0       \u001B[0m\u001B[1m \u001B[0m┃\n",
       "┡━━━━━━━━━━━━━━━━━━━━━━━━━━━╇━━━━━━━━━━━━━━━━━━━━━━━━━━━┩\n",
       "│\u001B[36m \u001B[0m\u001B[36m     validation_loss     \u001B[0m\u001B[36m \u001B[0m│\u001B[35m \u001B[0m\u001B[35m  0.006177565082907677   \u001B[0m\u001B[35m \u001B[0m│\n",
       "└───────────────────────────┴───────────────────────────┘\n"
      ],
      "text/html": [
       "<pre style=\"white-space:pre;overflow-x:auto;line-height:normal;font-family:Menlo,'DejaVu Sans Mono',consolas,'Courier New',monospace\">┏━━━━━━━━━━━━━━━━━━━━━━━━━━━┳━━━━━━━━━━━━━━━━━━━━━━━━━━━┓\n",
       "┃<span style=\"font-weight: bold\">      Validate metric      </span>┃<span style=\"font-weight: bold\">       DataLoader 0        </span>┃\n",
       "┡━━━━━━━━━━━━━━━━━━━━━━━━━━━╇━━━━━━━━━━━━━━━━━━━━━━━━━━━┩\n",
       "│<span style=\"color: #008080; text-decoration-color: #008080\">      validation_loss      </span>│<span style=\"color: #800080; text-decoration-color: #800080\">   0.006177565082907677    </span>│\n",
       "└───────────────────────────┴───────────────────────────┘\n",
       "</pre>\n"
      ]
     },
     "metadata": {},
     "output_type": "display_data"
    },
    {
     "data": {
      "text/plain": [
       "[{'validation_loss': 0.006177565082907677}]"
      ]
     },
     "execution_count": 17,
     "metadata": {},
     "output_type": "execute_result"
    }
   ],
   "execution_count": 17
  },
  {
   "cell_type": "code",
   "id": "b8d6ae44-f891-4b9c-9842-e3bb321ef6ee",
   "metadata": {
    "ExecuteTime": {
     "end_time": "2024-04-24T16:15:34.430969Z",
     "start_time": "2024-04-24T16:15:33.594801Z"
    }
   },
   "source": [
    "prediction = trainer.predict(model=model, datamodule=datamodule)"
   ],
   "outputs": [
    {
     "name": "stderr",
     "output_type": "stream",
     "text": [
      "/Users/raopend/Workspace/stock-index-prediction/.venv/lib/python3.10/site-packages/lightning/pytorch/trainer/connectors/data_connector.py:441: The 'predict_dataloader' does not have many workers which may be a bottleneck. Consider increasing the value of the `num_workers` argument` to `num_workers=7` in the `DataLoader` to improve performance.\n"
     ]
    },
    {
     "data": {
      "text/plain": [
       "Predicting: |          | 0/? [00:00<?, ?it/s]"
      ],
      "application/vnd.jupyter.widget-view+json": {
       "version_major": 2,
       "version_minor": 0,
       "model_id": "00fad97f06ce4c04bcaebb8a1fbd10b4"
      }
     },
     "metadata": {},
     "output_type": "display_data"
    }
   ],
   "execution_count": 18
  },
  {
   "cell_type": "code",
   "id": "acaf8eed",
   "metadata": {
    "ExecuteTime": {
     "end_time": "2024-04-24T16:15:36.461043Z",
     "start_time": "2024-04-24T16:15:36.458864Z"
    }
   },
   "source": [
    "scaler = datamodule.target_scaler"
   ],
   "outputs": [],
   "execution_count": 19
  },
  {
   "metadata": {
    "ExecuteTime": {
     "end_time": "2024-04-24T16:16:06.881026Z",
     "start_time": "2024-04-24T16:16:06.877989Z"
    }
   },
   "cell_type": "code",
   "source": "scaler.data_max_, scaler.data_min_",
   "id": "f97699e6bee5ead0",
   "outputs": [
    {
     "data": {
      "text/plain": [
       "(array([3386.14990234]), array([1022.58001709]))"
      ]
     },
     "execution_count": 26,
     "metadata": {},
     "output_type": "execute_result"
    }
   ],
   "execution_count": 26
  },
  {
   "cell_type": "code",
   "id": "70f30cef",
   "metadata": {
    "ExecuteTime": {
     "end_time": "2024-04-24T16:15:36.869050Z",
     "start_time": "2024-04-24T16:15:36.864570Z"
    }
   },
   "source": [
    "prediction = torch.cat(prediction)\n",
    "prediction = prediction.detach().numpy()\n",
    "prediction = scaler.inverse_transform(prediction)\n",
    "prediction"
   ],
   "outputs": [
    {
     "data": {
      "text/plain": [
       "array([[1129.6232],\n",
       "       [1132.3445],\n",
       "       [1132.2666],\n",
       "       ...,\n",
       "       [4568.8916],\n",
       "       [4547.9375],\n",
       "       [4543.9937]], dtype=float32)"
      ]
     },
     "execution_count": 20,
     "metadata": {},
     "output_type": "execute_result"
    }
   ],
   "execution_count": 20
  },
  {
   "cell_type": "code",
   "id": "62f47df3",
   "metadata": {
    "ExecuteTime": {
     "end_time": "2024-04-24T16:15:37.527386Z",
     "start_time": "2024-04-24T16:15:37.524687Z"
    }
   },
   "source": [
    "prediction = prediction.flatten()\n",
    "prediction"
   ],
   "outputs": [
    {
     "data": {
      "text/plain": [
       "array([1129.6232, 1132.3445, 1132.2666, ..., 4568.8916, 4547.9375,\n",
       "       4543.9937], dtype=float32)"
      ]
     },
     "execution_count": 21,
     "metadata": {},
     "output_type": "execute_result"
    }
   ],
   "execution_count": 21
  },
  {
   "cell_type": "code",
   "id": "3e3ca1e3",
   "metadata": {
    "ExecuteTime": {
     "end_time": "2024-04-24T16:15:38.031727Z",
     "start_time": "2024-04-24T16:15:37.973579Z"
    }
   },
   "source": [
    "# # scaler.inverse_transform(test).shape\n",
    "actual_final = []\n",
    "for ele in datamodule.predict_dataloader():\n",
    "    actual_final.extend(ele[1].squeeze(1).tolist())\n",
    "actual_final = np.fromiter(actual_final, dtype=np.float32)\n",
    "actual_final = scaler.inverse_transform(actual_final.reshape(-1, 1))\n",
    "# actual_final = actual_final\n",
    "actual_final = actual_final.squeeze(1).tolist()\n",
    "actual_final"
   ],
   "outputs": [
    {
     "data": {
      "text/plain": [
       "[1146.97998046875,\n",
       " 1136.219970703125,\n",
       " 1145.6800537109375,\n",
       " 1148.4599609375,\n",
       " 1136.030029296875,\n",
       " 1150.22998046875,\n",
       " 1138.0400390625,\n",
       " 1116.47998046875,\n",
       " 1091.760009765625,\n",
       " 1096.780029296875,\n",
       " 1092.1700439453125,\n",
       " 1097.5,\n",
       " 1084.530029296875,\n",
       " 1073.8699951171875,\n",
       " 1089.18994140625,\n",
       " 1103.3199462890625,\n",
       " 1097.280029296875,\n",
       " 1063.1099853515625,\n",
       " 1066.18994140625,\n",
       " 1056.739990234375,\n",
       " 1070.52001953125,\n",
       " 1068.1300048828125,\n",
       " 1078.469970703125,\n",
       " 1075.510009765625,\n",
       " 1094.8699951171875,\n",
       " 1099.510009765625,\n",
       " 1106.75,\n",
       " 1109.1700439453125,\n",
       " 1108.010009765625,\n",
       " 1094.5999755859375,\n",
       " 1105.239990234375,\n",
       " 1102.93994140625,\n",
       " 1104.489990234375,\n",
       " 1115.7099609375,\n",
       " 1118.31005859375,\n",
       " 1118.7900390625,\n",
       " 1122.969970703125,\n",
       " 1138.699951171875,\n",
       " 1138.5,\n",
       " 1140.449951171875,\n",
       " 1145.6099853515625,\n",
       " 1150.239990234375,\n",
       " 1149.989990234375,\n",
       " 1150.510009765625,\n",
       " 1159.4599609375,\n",
       " 1166.2099609375,\n",
       " 1165.8299560546875,\n",
       " 1159.9000244140625,\n",
       " 1165.81005859375,\n",
       " 1174.1700439453125,\n",
       " 1167.719970703125,\n",
       " 1165.72998046875,\n",
       " 1166.5899658203125,\n",
       " 1173.219970703125,\n",
       " 1173.27001953125,\n",
       " 1169.4300537109375,\n",
       " 1178.0999755859375,\n",
       " 1187.43994140625,\n",
       " 1189.43994140625,\n",
       " 1182.449951171875,\n",
       " 1186.43994140625,\n",
       " 1194.3699951171875,\n",
       " 1196.47998046875,\n",
       " 1197.300048828125,\n",
       " 1210.6500244140625,\n",
       " 1211.6700439453125,\n",
       " 1192.1300048828125,\n",
       " 1197.5201416015625,\n",
       " 1207.1700439453125,\n",
       " 1205.93994140625,\n",
       " 1208.6700439453125,\n",
       " 1217.280029296875,\n",
       " 1212.050048828125,\n",
       " 1183.7099609375,\n",
       " 1191.3599853515625,\n",
       " 1206.7799072265625,\n",
       " 1186.68994140625,\n",
       " 1202.260009765625,\n",
       " 1173.5999755859375,\n",
       " 1165.8699951171875,\n",
       " 1128.1500244140625,\n",
       " 1110.8800048828125,\n",
       " 1159.72998046875,\n",
       " 1155.7900390625,\n",
       " 1171.6700439453125,\n",
       " 1157.43994140625,\n",
       " 1135.6800537109375,\n",
       " 1136.93994140625,\n",
       " 1120.800048828125,\n",
       " 1115.050048828125,\n",
       " 1071.5899658203125,\n",
       " 1087.68994140625,\n",
       " 1073.6500244140625,\n",
       " 1074.030029296875,\n",
       " 1067.949951171875,\n",
       " 1103.06005859375,\n",
       " 1089.4100341796875,\n",
       " 1070.7099609375,\n",
       " 1098.3800048828125,\n",
       " 1102.8299560546875,\n",
       " 1064.8800048828125,\n",
       " 1050.469970703125,\n",
       " 1062.0,\n",
       " 1055.68994140625,\n",
       " 1086.8399658203125,\n",
       " 1091.5999755859375,\n",
       " 1089.6300048828125,\n",
       " 1115.22998046875,\n",
       " 1114.6099853515625,\n",
       " 1116.0400390625,\n",
       " 1117.510009765625,\n",
       " 1113.199951171875,\n",
       " 1095.31005859375,\n",
       " 1092.0400390625,\n",
       " 1073.68994140625,\n",
       " 1076.760009765625,\n",
       " 1074.5699462890625,\n",
       " 1041.239990234375,\n",
       " 1030.7099609375,\n",
       " 1027.3699951171875,\n",
       " 1022.5799560546875,\n",
       " 1028.06005859375,\n",
       " 1060.27001953125,\n",
       " 1070.25,\n",
       " 1077.9599609375,\n",
       " 1078.75,\n",
       " 1095.3399658203125,\n",
       " 1095.1700439453125,\n",
       " 1096.47998046875,\n",
       " 1064.8800048828125,\n",
       " 1071.25,\n",
       " 1083.47998046875,\n",
       " 1069.5899658203125,\n",
       " 1093.6700439453125,\n",
       " 1102.6600341796875,\n",
       " 1115.010009765625,\n",
       " 1113.8399658203125,\n",
       " 1106.1300048828125,\n",
       " 1101.530029296875,\n",
       " 1101.5999755859375,\n",
       " 1125.8599853515625,\n",
       " 1120.4599609375,\n",
       " 1127.239990234375,\n",
       " 1125.81005859375,\n",
       " 1121.6400146484375,\n",
       " 1127.7900390625,\n",
       " 1121.06005859375,\n",
       " 1089.469970703125,\n",
       " 1083.6099853515625,\n",
       " 1079.25,\n",
       " 1079.3800048828125,\n",
       " 1092.5400390625,\n",
       " 1094.1600341796875,\n",
       " 1075.6300048828125,\n",
       " 1071.68994140625,\n",
       " 1067.3599853515625,\n",
       " 1051.8699951171875,\n",
       " 1055.3299560546875,\n",
       " 1047.219970703125,\n",
       " 1064.5899658203125,\n",
       " 1048.9200439453125,\n",
       " 1049.3299560546875,\n",
       " 1080.2900390625,\n",
       " 1090.0999755859375,\n",
       " 1104.510009765625,\n",
       " 1091.8399658203125,\n",
       " 1098.8699951171875,\n",
       " 1104.1800537109375,\n",
       " 1109.550048828125,\n",
       " 1121.9000244140625,\n",
       " 1121.0999755859375,\n",
       " 1125.0699462890625,\n",
       " 1124.6600341796875,\n",
       " 1125.5899658203125,\n",
       " 1142.7099609375,\n",
       " 1139.780029296875,\n",
       " 1134.280029296875,\n",
       " 1124.8299560546875,\n",
       " 1148.6700439453125,\n",
       " 1142.1600341796875,\n",
       " 1147.699951171875,\n",
       " 1144.72998046875,\n",
       " 1141.199951171875,\n",
       " 1146.239990234375,\n",
       " 1137.030029296875,\n",
       " 1160.75,\n",
       " 1159.969970703125,\n",
       " 1158.06005859375,\n",
       " 1165.1500244140625,\n",
       " 1165.3199462890625,\n",
       " 1169.77001953125,\n",
       " 1178.0999755859375,\n",
       " 1173.81005859375,\n",
       " 1176.18994140625,\n",
       " 1184.7098388671875,\n",
       " 1165.9000244140625,\n",
       " 1178.1700439453125,\n",
       " 1180.260009765625,\n",
       " 1183.0799560546875,\n",
       " 1185.6199951171875,\n",
       " 1185.6400146484375,\n",
       " 1182.449951171875,\n",
       " 1183.780029296875,\n",
       " 1183.260009765625,\n",
       " 1184.3800048828125,\n",
       " 1193.5699462890625,\n",
       " 1197.9599609375,\n",
       " 1221.06005859375,\n",
       " 1225.8499755859375,\n",
       " 1223.2498779296875,\n",
       " 1213.4000244140625,\n",
       " 1218.7099609375,\n",
       " 1213.5400390625,\n",
       " 1199.2099609375,\n",
       " 1197.75,\n",
       " 1178.3399658203125,\n",
       " 1178.5899658203125,\n",
       " 1196.6898193359375,\n",
       " 1199.72998046875,\n",
       " 1197.8399658203125,\n",
       " 1180.72998046875,\n",
       " 1198.3499755859375,\n",
       " 1189.4000244140625,\n",
       " 1187.7598876953125,\n",
       " 1180.550048828125,\n",
       " 1206.0699462890625,\n",
       " 1221.530029296875,\n",
       " 1224.7099609375,\n",
       " 1223.1199951171875,\n",
       " 1223.75,\n",
       " 1228.280029296875,\n",
       " 1233.0,\n",
       " 1240.4000244140625,\n",
       " 1240.4599609375,\n",
       " 1241.5899658203125,\n",
       " 1235.22998046875,\n",
       " 1242.8699951171875,\n",
       " 1243.9100341796875,\n",
       " 1247.079833984375,\n",
       " 1254.599853515625,\n",
       " 1258.8399658203125,\n",
       " 1256.77001953125,\n",
       " 1257.5400390625,\n",
       " 1258.510009765625,\n",
       " 1259.780029296875,\n",
       " 1257.8800048828125,\n",
       " 1257.639892578125,\n",
       " 1271.869873046875,\n",
       " 1270.199951171875,\n",
       " 1276.56005859375,\n",
       " 1273.8499755859375,\n",
       " 1271.5,\n",
       " 1269.75,\n",
       " 1274.47998046875,\n",
       " 1285.9599609375,\n",
       " 1283.760009765625,\n",
       " 1293.239990234375,\n",
       " 1295.02001953125,\n",
       " 1281.9200439453125,\n",
       " 1280.260009765625,\n",
       " 1283.3499755859375,\n",
       " 1290.8399658203125,\n",
       " 1291.1800537109375,\n",
       " 1296.6300048828125,\n",
       " 1299.5400390625,\n",
       " 1276.33984375,\n",
       " 1286.1201171875,\n",
       " 1307.5899658203125,\n",
       " 1304.0299072265625,\n",
       " 1307.0999755859375,\n",
       " 1310.8699951171875,\n",
       " 1319.050048828125,\n",
       " 1324.5699462890625,\n",
       " 1320.8800048828125,\n",
       " 1321.8699951171875,\n",
       " 1329.14990234375,\n",
       " 1332.31982421875,\n",
       " 1328.0098876953125,\n",
       " 1336.31982421875,\n",
       " 1340.4300537109375,\n",
       " 1343.010009765625,\n",
       " 1315.43994140625,\n",
       " 1307.4000244140625,\n",
       " 1306.099853515625,\n",
       " 1319.8800048828125,\n",
       " 1327.2198486328125,\n",
       " 1306.3299560546875,\n",
       " 1308.43994140625,\n",
       " 1330.969970703125,\n",
       " 1321.14990234375,\n",
       " 1310.1300048828125,\n",
       " 1321.8199462890625,\n",
       " 1320.0198974609375,\n",
       " 1295.1099853515625,\n",
       " 1304.280029296875,\n",
       " 1296.3900146484375,\n",
       " 1281.8699951171875,\n",
       " 1256.8800048828125,\n",
       " 1273.719970703125,\n",
       " 1279.2099609375,\n",
       " 1298.3800048828125,\n",
       " 1293.77001953125,\n",
       " 1297.5400390625,\n",
       " 1309.6600341796875,\n",
       " 1313.8001708984375,\n",
       " 1310.18994140625,\n",
       " 1319.43994140625,\n",
       " 1328.260009765625,\n",
       " 1325.8299560546875,\n",
       " 1332.4100341796875,\n",
       " 1332.8699951171875,\n",
       " 1332.6300048828125,\n",
       " 1335.5399169921875,\n",
       " 1333.510009765625,\n",
       " 1328.1700439453125,\n",
       " 1324.4599609375,\n",
       " 1314.1600341796875,\n",
       " 1314.4100341796875,\n",
       " 1314.52001953125,\n",
       " 1319.6800537109375,\n",
       " 1305.139892578125,\n",
       " 1312.6199951171875,\n",
       " 1330.3599853515625,\n",
       " 1337.3800048828125,\n",
       " 1335.25,\n",
       " 1347.239990234375,\n",
       " 1355.6600341796875,\n",
       " 1360.4798583984375,\n",
       " 1363.6099853515625,\n",
       " 1361.219970703125,\n",
       " 1356.6199951171875,\n",
       " 1347.3199462890625,\n",
       " 1335.0999755859375,\n",
       " 1340.199951171875,\n",
       " 1346.2900390625,\n",
       " 1357.1600341796875,\n",
       " 1342.079833984375,\n",
       " 1348.64990234375,\n",
       " 1337.7698974609375,\n",
       " 1329.469970703125,\n",
       " 1328.9798583984375,\n",
       " 1340.6800537109375,\n",
       " 1343.5999755859375,\n",
       " 1333.27001953125,\n",
       " 1317.3699951171875,\n",
       " 1316.280029296875,\n",
       " 1320.469970703125,\n",
       " 1325.68994140625,\n",
       " 1331.0999755859375,\n",
       " 1345.199951171875,\n",
       " 1314.550048828125,\n",
       " 1312.93994140625,\n",
       " 1300.1600341796875,\n",
       " 1286.1700439453125,\n",
       " 1284.93994140625,\n",
       " 1279.5599365234375,\n",
       " 1289.0001220703125,\n",
       " 1270.97998046875,\n",
       " 1271.8299560546875,\n",
       " 1287.869873046875,\n",
       " 1265.4200439453125,\n",
       " 1267.6400146484375,\n",
       " 1271.5,\n",
       " 1278.3599853515625,\n",
       " 1295.52001953125,\n",
       " 1287.1400146484375,\n",
       " 1283.5,\n",
       " 1268.449951171875,\n",
       " 1280.0999755859375,\n",
       " 1296.669921875,\n",
       " 1307.4100341796875,\n",
       " 1320.6400146484375,\n",
       " 1339.6700439453125,\n",
       " 1337.8800048828125,\n",
       " 1339.2198486328125,\n",
       " 1353.219970703125,\n",
       " 1343.800048828125,\n",
       " 1319.489990234375,\n",
       " 1313.6400146484375,\n",
       " 1317.719970703125,\n",
       " 1308.8699951171875,\n",
       " 1316.1400146484375,\n",
       " 1305.43994140625,\n",
       " 1326.7298583984375,\n",
       " 1325.8399658203125,\n",
       " 1343.800048828125,\n",
       " 1345.02001953125,\n",
       " 1337.4300537109375,\n",
       " 1331.93994140625,\n",
       " 1304.8900146484375,\n",
       " 1300.669921875,\n",
       " 1292.280029296875,\n",
       " 1286.93994140625,\n",
       " 1254.050048828125,\n",
       " 1260.3399658203125,\n",
       " 1200.0699462890625,\n",
       " 1199.3800048828125,\n",
       " 1119.4599609375,\n",
       " 1172.530029296875,\n",
       " 1120.760009765625,\n",
       " 1172.6400146484375,\n",
       " 1178.81005859375,\n",
       " 1204.489990234375,\n",
       " 1192.760009765625,\n",
       " 1193.8900146484375,\n",
       " 1140.6500244140625,\n",
       " 1123.530029296875,\n",
       " 1123.8199462890625,\n",
       " 1162.3499755859375,\n",
       " 1177.5999755859375,\n",
       " 1159.27001953125,\n",
       " 1176.800048828125,\n",
       " 1210.0799560546875,\n",
       " 1212.9200439453125,\n",
       " 1218.8900146484375,\n",
       " 1204.4200439453125,\n",
       " 1173.969970703125,\n",
       " 1165.239990234375,\n",
       " 1198.619873046875,\n",
       " 1185.9000244140625,\n",
       " 1154.22998046875,\n",
       " 1162.27001953125,\n",
       " 1172.8699951171875,\n",
       " 1188.6800537109375,\n",
       " 1209.1099853515625,\n",
       " 1216.010009765625,\n",
       " 1204.0899658203125,\n",
       " 1202.0899658203125,\n",
       " 1166.760009765625,\n",
       " 1129.56005859375,\n",
       " 1136.4300537109375,\n",
       " 1162.949951171875,\n",
       " 1175.3800048828125,\n",
       " 1151.06005859375,\n",
       " 1160.4000244140625,\n",
       " 1131.4200439453125,\n",
       " 1099.22998046875,\n",
       " 1123.949951171875,\n",
       " 1144.030029296875,\n",
       " 1164.969970703125,\n",
       " 1155.4599609375,\n",
       " 1194.8900146484375,\n",
       " 1195.5400390625,\n",
       " 1207.25,\n",
       " 1203.6600341796875,\n",
       " 1224.5799560546875,\n",
       " 1200.85986328125,\n",
       " 1225.3800048828125,\n",
       " 1209.8800048828125,\n",
       " 1215.3900146484375,\n",
       " 1238.25,\n",
       " 1254.18994140625,\n",
       " 1229.050048828125,\n",
       " 1242.0,\n",
       " 1284.5899658203125,\n",
       " 1285.0899658203125,\n",
       " 1253.300048828125,\n",
       " 1218.280029296875,\n",
       " 1237.9000244140625,\n",
       " 1261.1500244140625,\n",
       " 1253.22998046875,\n",
       " 1261.1199951171875,\n",
       " 1275.9200439453125,\n",
       " 1229.0999755859375,\n",
       " 1239.699951171875,\n",
       " 1263.8499755859375,\n",
       " 1251.780029296875,\n",
       " 1257.8099365234375,\n",
       " 1236.9100341796875,\n",
       " 1216.1300048828125,\n",
       " 1215.6500244140625,\n",
       " 1192.97998046875,\n",
       " 1188.0400390625,\n",
       " 1161.7900390625,\n",
       " 1158.6700439453125,\n",
       " 1192.5499267578125,\n",
       " 1195.18994140625,\n",
       " 1246.9599609375,\n",
       " 1244.5799560546875,\n",
       " 1244.280029296875,\n",
       " 1257.0799560546875,\n",
       " 1258.469970703125,\n",
       " 1261.0098876953125,\n",
       " 1234.3499755859375,\n",
       " 1255.18994140625,\n",
       " 1236.469970703125,\n",
       " 1225.72998046875,\n",
       " 1211.8199462890625,\n",
       " 1215.7501220703125,\n",
       " 1219.6600341796875,\n",
       " 1205.35009765625,\n",
       " 1241.300048828125,\n",
       " 1243.7198486328125,\n",
       " 1254.0,\n",
       " 1265.3299560546875,\n",
       " 1265.4300537109375,\n",
       " 1249.639892578125,\n",
       " 1263.02001953125,\n",
       " 1257.5999755859375,\n",
       " 1277.06005859375,\n",
       " 1277.300048828125,\n",
       " 1281.06005859375,\n",
       " 1277.8099365234375,\n",
       " 1280.699951171875,\n",
       " 1292.0799560546875,\n",
       " 1292.47998046875,\n",
       " 1295.5,\n",
       " 1289.0899658203125,\n",
       " 1293.6700439453125,\n",
       " 1308.0401611328125,\n",
       " 1314.5,\n",
       " 1315.3798828125,\n",
       " 1316.0,\n",
       " 1314.6500244140625,\n",
       " 1326.06005859375,\n",
       " 1318.429931640625,\n",
       " 1316.329833984375,\n",
       " 1313.010009765625,\n",
       " 1312.4100341796875,\n",
       " 1324.0899658203125,\n",
       " 1325.5400390625,\n",
       " 1344.9000244140625,\n",
       " 1344.329833984375,\n",
       " 1347.0499267578125,\n",
       " 1349.9599609375,\n",
       " 1351.949951171875,\n",
       " 1342.6400146484375,\n",
       " 1351.77001953125,\n",
       " 1350.5,\n",
       " 1343.22998046875,\n",
       " 1358.0400390625,\n",
       " 1361.22998046875,\n",
       " 1362.2099609375,\n",
       " 1357.6600341796875,\n",
       " 1363.4599609375,\n",
       " 1365.739990234375,\n",
       " 1367.5899658203125,\n",
       " 1372.179931640625,\n",
       " 1365.6800537109375,\n",
       " 1374.0899658203125,\n",
       " 1369.6300048828125,\n",
       " 1364.3299560546875,\n",
       " 1343.35986328125,\n",
       " 1352.6300048828125,\n",
       " 1365.9100341796875,\n",
       " 1370.869873046875,\n",
       " 1371.0899658203125,\n",
       " 1395.949951171875,\n",
       " 1394.280029296875,\n",
       " 1402.5999755859375,\n",
       " 1404.1700439453125,\n",
       " 1409.7498779296875,\n",
       " 1405.52001953125,\n",
       " 1402.8900146484375,\n",
       " 1392.780029296875,\n",
       " 1397.10986328125,\n",
       " 1416.510009765625,\n",
       " 1412.52001953125,\n",
       " 1405.5400390625,\n",
       " 1403.280029296875,\n",
       " 1408.4698486328125,\n",
       " 1419.0399169921875,\n",
       " 1413.3800048828125,\n",
       " 1398.9599609375,\n",
       " 1398.0799560546875,\n",
       " 1382.199951171875,\n",
       " 1358.5899658203125,\n",
       " 1368.7099609375,\n",
       " 1387.5699462890625,\n",
       " 1370.260009765625,\n",
       " 1369.5699462890625,\n",
       " 1390.780029296875,\n",
       " 1385.1400146484375,\n",
       " 1376.9200439453125,\n",
       " 1378.530029296875,\n",
       " 1366.93994140625,\n",
       " 1371.969970703125,\n",
       " 1390.6898193359375,\n",
       " 1399.9798583984375,\n",
       " 1403.3599853515625,\n",
       " 1397.909912109375,\n",
       " 1405.8199462890625,\n",
       " 1402.31005859375,\n",
       " 1391.5699462890625,\n",
       " 1369.0999755859375,\n",
       " 1369.579833984375,\n",
       " 1363.719970703125,\n",
       " 1354.5799560546875,\n",
       " 1357.989990234375,\n",
       " 1353.3900146484375,\n",
       " 1338.3499755859375,\n",
       " 1330.6600341796875,\n",
       " 1324.800048828125,\n",
       " 1304.8599853515625,\n",
       " 1295.2198486328125,\n",
       " 1315.989990234375,\n",
       " 1316.6300048828125,\n",
       " 1318.8599853515625,\n",
       " 1320.679931640625,\n",
       " 1317.8199462890625,\n",
       " 1332.4200439453125,\n",
       " 1313.3199462890625,\n",
       " 1310.3299560546875,\n",
       " 1278.0400390625,\n",
       " 1278.1800537109375,\n",
       " 1285.5,\n",
       " 1315.1300048828125,\n",
       " 1314.989990234375,\n",
       " 1325.6600341796875,\n",
       " 1308.9300537109375,\n",
       " 1324.179931640625,\n",
       " 1314.8800048828125,\n",
       " 1329.0999755859375,\n",
       " 1342.8399658203125,\n",
       " 1344.780029296875,\n",
       " 1357.97998046875,\n",
       " 1355.6898193359375,\n",
       " 1325.510009765625,\n",
       " 1335.02001953125,\n",
       " 1313.719970703125,\n",
       " 1319.989990234375,\n",
       " 1331.849853515625,\n",
       " 1329.0400390625,\n",
       " 1362.1600341796875,\n",
       " 1365.510009765625,\n",
       " 1374.02001953125,\n",
       " 1367.5799560546875,\n",
       " 1354.6800537109375,\n",
       " 1352.4599609375,\n",
       " 1341.469970703125,\n",
       " 1341.4498291015625,\n",
       " 1334.760009765625,\n",
       " 1356.780029296875,\n",
       " 1353.6400146484375,\n",
       " 1363.6700439453125,\n",
       " 1372.780029296875,\n",
       " 1376.510009765625,\n",
       " 1362.6600341796875,\n",
       " 1350.52001953125,\n",
       " 1338.31005859375,\n",
       " 1337.8900146484375,\n",
       " 1360.0198974609375,\n",
       " 1385.969970703125,\n",
       " 1385.300048828125,\n",
       " 1379.3199462890625,\n",
       " 1375.3199462890625,\n",
       " 1365.0,\n",
       " 1390.989990234375,\n",
       " 1394.2298583984375,\n",
       " 1401.3499755859375,\n",
       " 1402.2198486328125,\n",
       " 1402.800048828125,\n",
       " 1405.8699951171875,\n",
       " 1404.1099853515625,\n",
       " 1403.9300537109375,\n",
       " 1405.530029296875,\n",
       " 1415.5098876953125,\n",
       " 1418.1600341796875,\n",
       " 1418.1300048828125,\n",
       " 1413.1700439453125,\n",
       " 1413.489990234375,\n",
       " 1402.0799560546875,\n",
       " 1411.1300048828125,\n",
       " 1410.43994140625,\n",
       " 1409.300048828125,\n",
       " 1410.489990234375,\n",
       " 1399.47998046875,\n",
       " 1406.5799560546875,\n",
       " 1404.9398193359375,\n",
       " 1403.43994140625,\n",
       " 1432.1199951171875,\n",
       " 1437.9200439453125,\n",
       " 1429.079833984375,\n",
       " 1433.56005859375,\n",
       " 1436.56005859375,\n",
       " 1459.989990234375,\n",
       " 1465.77001953125,\n",
       " 1461.18994140625,\n",
       " 1459.31982421875,\n",
       " 1461.050048828125,\n",
       " 1460.260009765625,\n",
       " 1460.1500244140625,\n",
       " 1456.8900146484375,\n",
       " 1441.5899658203125,\n",
       " 1433.3199462890625,\n",
       " 1447.1500244140625,\n",
       " 1440.6700439453125,\n",
       " 1444.489990234375,\n",
       " 1445.75,\n",
       " 1450.989990234375,\n",
       " 1461.39990234375,\n",
       " 1460.929931640625,\n",
       " 1455.8800048828125,\n",
       " 1441.47998046875,\n",
       " 1432.56005859375,\n",
       " 1432.8399658203125,\n",
       " 1428.5899658203125,\n",
       " 1440.1298828125,\n",
       " 1454.9200439453125,\n",
       " 1460.9100341796875,\n",
       " 1457.3399658203125,\n",
       " 1433.18994140625,\n",
       " 1433.8199462890625,\n",
       " 1413.10986328125,\n",
       " 1408.75,\n",
       " 1412.969970703125,\n",
       " 1411.93994140625,\n",
       " 1412.159912109375,\n",
       " 1427.5899658203125,\n",
       " 1414.199951171875,\n",
       " 1417.2598876953125,\n",
       " 1428.3900146484375,\n",
       " 1394.530029296875,\n",
       " 1377.510009765625,\n",
       " 1379.8499755859375,\n",
       " 1380.030029296875,\n",
       " 1374.530029296875,\n",
       " 1355.489990234375,\n",
       " 1353.3299560546875,\n",
       " 1359.8800048828125,\n",
       " 1386.889892578125,\n",
       " 1387.81005859375,\n",
       " 1391.0299072265625,\n",
       " 1409.1500244140625,\n",
       " 1406.2900390625,\n",
       " 1398.93994140625,\n",
       " 1409.9300537109375,\n",
       " 1415.949951171875,\n",
       " 1416.1800537109375,\n",
       " 1409.4599609375,\n",
       " 1407.050048828125,\n",
       " 1409.2799072265625,\n",
       " 1413.93994140625,\n",
       " 1418.0699462890625,\n",
       " 1418.5499267578125,\n",
       " 1427.8399658203125,\n",
       " 1428.47998046875,\n",
       " 1419.449951171875,\n",
       " 1413.579833984375,\n",
       " 1430.35986328125,\n",
       " 1446.7900390625,\n",
       " 1435.81005859375,\n",
       " 1443.68994140625,\n",
       " 1430.1500244140625,\n",
       " 1426.6600341796875,\n",
       " 1419.8299560546875,\n",
       " 1418.0999755859375,\n",
       " 1402.4300537109375,\n",
       " 1426.18994140625,\n",
       " 1462.4200439453125,\n",
       " 1459.3699951171875,\n",
       " 1466.469970703125,\n",
       " 1461.889892578125,\n",
       " 1457.1500244140625,\n",
       " 1461.02001953125,\n",
       " 1472.119873046875,\n",
       " 1472.050048828125,\n",
       " 1470.679931640625,\n",
       " 1472.3399658203125,\n",
       " 1472.6300048828125,\n",
       " 1480.93994140625,\n",
       " 1485.97998046875,\n",
       " 1492.56005859375,\n",
       " 1494.81005859375,\n",
       " 1494.81982421875,\n",
       " 1502.9599609375,\n",
       " 1500.1800537109375,\n",
       " 1507.8399658203125,\n",
       " 1501.9599609375,\n",
       " 1498.1099853515625,\n",
       " 1513.1700439453125,\n",
       " 1495.7099609375,\n",
       " 1511.2900390625,\n",
       " 1512.1199951171875,\n",
       " 1509.389892578125,\n",
       " 1517.9300537109375,\n",
       " 1517.010009765625,\n",
       " 1519.4300537109375,\n",
       " 1520.3299560546875,\n",
       " 1521.3798828125,\n",
       " 1519.7899169921875,\n",
       " 1530.93994140625,\n",
       " 1511.949951171875,\n",
       " 1502.4200439453125,\n",
       " 1515.5999755859375,\n",
       " 1487.8499755859375,\n",
       " 1496.93994140625,\n",
       " 1515.989990234375,\n",
       " 1514.679931640625,\n",
       " 1518.199951171875,\n",
       " 1525.1998291015625,\n",
       " 1539.7899169921875,\n",
       " 1541.4599609375,\n",
       " 1544.2598876953125,\n",
       " 1551.1800537109375,\n",
       " 1556.219970703125,\n",
       " 1552.47998046875,\n",
       " 1554.52001953125,\n",
       " 1563.22998046875,\n",
       " 1560.699951171875,\n",
       " 1552.0999755859375,\n",
       " 1548.3399658203125,\n",
       " 1558.7099609375,\n",
       " 1545.800048828125,\n",
       " 1556.889892578125,\n",
       " 1551.68994140625,\n",
       " 1563.7698974609375,\n",
       " 1562.8499755859375,\n",
       " 1569.1898193359375,\n",
       " 1562.169921875,\n",
       " 1570.25,\n",
       " 1553.68994140625,\n",
       " 1559.97998046875,\n",
       " 1553.280029296875,\n",
       " 1563.0699462890625,\n",
       " 1568.6099853515625,\n",
       " 1587.72998046875,\n",
       " 1593.3699951171875,\n",
       " 1588.8499755859375,\n",
       " 1552.3599853515625,\n",
       " 1574.5699462890625,\n",
       " 1552.010009765625,\n",
       " 1541.6099853515625,\n",
       " 1555.25,\n",
       " 1562.5,\n",
       " 1578.780029296875,\n",
       " 1578.7899169921875,\n",
       " 1585.1600341796875,\n",
       " 1582.239990234375,\n",
       " 1593.6099853515625,\n",
       " 1597.5699462890625,\n",
       " 1582.699951171875,\n",
       " 1597.5899658203125,\n",
       " 1614.4200439453125,\n",
       " 1617.5001220703125,\n",
       " 1625.9598388671875,\n",
       " 1632.6900634765625,\n",
       " 1626.6700439453125,\n",
       " 1633.699951171875,\n",
       " 1633.77001953125,\n",
       " 1650.3399658203125,\n",
       " 1658.780029296875,\n",
       " 1650.469970703125,\n",
       " 1667.469970703125,\n",
       " 1666.2901611328125,\n",
       " 1669.16015625,\n",
       " 1655.3499755859375,\n",
       " 1650.510009765625,\n",
       " 1649.5999755859375,\n",
       " 1660.06005859375,\n",
       " 1648.360107421875,\n",
       " 1654.4100341796875,\n",
       " 1630.739990234375,\n",
       " 1640.4200439453125,\n",
       " 1631.3800048828125,\n",
       " 1608.9000244140625,\n",
       " 1622.56005859375,\n",
       " 1643.3800048828125,\n",
       " 1642.81005859375,\n",
       " 1626.1298828125,\n",
       " 1612.52001953125,\n",
       " 1636.35986328125,\n",
       " 1626.72998046875,\n",
       " 1639.0400390625,\n",
       " 1651.81005859375,\n",
       " 1628.9300537109375,\n",
       " 1588.18994140625,\n",
       " 1592.4300537109375,\n",
       " 1573.0899658203125,\n",
       " 1588.030029296875,\n",
       " 1603.2598876953125,\n",
       " 1613.199951171875,\n",
       " 1606.280029296875,\n",
       " 1614.9599609375,\n",
       " 1614.0799560546875,\n",
       " 1615.4100341796875,\n",
       " 1631.89013671875,\n",
       " 1640.4599609375,\n",
       " 1652.3199462890625,\n",
       " 1652.6199951171875,\n",
       " 1675.02001953125,\n",
       " 1680.1900634765625,\n",
       " 1682.5,\n",
       " 1676.260009765625,\n",
       " 1680.9100341796875,\n",
       " 1689.3699951171875,\n",
       " 1692.0899658203125,\n",
       " 1695.530029296875,\n",
       " 1692.3900146484375,\n",
       " 1685.9400634765625,\n",
       " 1690.25,\n",
       " 1691.6500244140625,\n",
       " 1685.3299560546875,\n",
       " 1685.9599609375,\n",
       " 1685.72998046875,\n",
       " 1706.8699951171875,\n",
       " 1709.6700439453125,\n",
       " 1707.1400146484375,\n",
       " 1697.3699951171875,\n",
       " 1690.91015625,\n",
       " 1697.47998046875,\n",
       " 1691.4200439453125,\n",
       " 1689.4700927734375,\n",
       " 1694.1600341796875,\n",
       " 1685.3900146484375,\n",
       " 1661.3199462890625,\n",
       " 1655.8299560546875,\n",
       " 1646.06005859375,\n",
       " 1652.349853515625,\n",
       " 1642.800048828125,\n",
       " 1656.9599609375,\n",
       " 1663.5,\n",
       " 1656.780029296875,\n",
       " 1630.47998046875,\n",
       " 1634.9599609375,\n",
       " 1638.1700439453125,\n",
       " 1632.969970703125,\n",
       " 1639.77001953125,\n",
       " 1653.0799560546875,\n",
       " 1655.080078125,\n",
       " 1655.1700439453125,\n",
       " 1671.7100830078125,\n",
       " 1683.989990234375,\n",
       " 1689.1300048828125,\n",
       " 1683.4200439453125,\n",
       " 1687.989990234375,\n",
       " 1697.5999755859375,\n",
       " 1704.760009765625,\n",
       " 1725.52001953125,\n",
       " 1722.3399658203125,\n",
       " 1709.9100341796875,\n",
       " 1701.8399658203125,\n",
       " 1697.4200439453125,\n",
       " 1692.77001953125,\n",
       " 1698.6700439453125,\n",
       " 1691.75,\n",
       " 1681.550048828125,\n",
       " 1695.0,\n",
       " 1693.8699951171875,\n",
       " 1678.6600341796875,\n",
       " 1690.5,\n",
       " 1676.1199951171875,\n",
       " 1655.449951171875,\n",
       " 1656.4000244140625,\n",
       " 1692.56005859375,\n",
       " 1703.199951171875,\n",
       " 1710.1400146484375,\n",
       " 1698.06005859375,\n",
       " 1721.5400390625,\n",
       " 1733.1500244140625,\n",
       " 1744.5,\n",
       " 1744.66015625,\n",
       " 1754.6700439453125,\n",
       " 1746.3800048828125,\n",
       " 1752.0699462890625,\n",
       " 1759.77001953125,\n",
       " 1762.1099853515625,\n",
       " 1771.949951171875,\n",
       " 1763.31005859375,\n",
       " 1756.5400390625,\n",
       " 1761.6400146484375,\n",
       " 1767.9300537109375,\n",
       " 1762.969970703125,\n",
       " 1770.489990234375,\n",
       " 1747.1500244140625,\n",
       " 1770.6099853515625,\n",
       " 1771.8900146484375,\n",
       " 1767.68994140625,\n",
       " 1782.0,\n",
       " 1790.6199951171875,\n",
       " 1798.1800537109375,\n",
       " 1791.530029296875,\n",
       " 1787.8699951171875,\n",
       " 1781.3699951171875,\n",
       " 1795.8499755859375,\n",
       " 1804.760009765625,\n",
       " 1802.47998046875,\n",
       " 1802.75,\n",
       " 1807.22998046875,\n",
       " 1805.81005859375,\n",
       " 1800.9000244140625,\n",
       " 1795.1500244140625,\n",
       " 1792.81005859375,\n",
       " 1785.030029296875,\n",
       " 1805.090087890625,\n",
       " 1808.3699951171875,\n",
       " 1802.6199951171875,\n",
       " 1782.2198486328125,\n",
       " 1775.5,\n",
       " 1775.3199462890625,\n",
       " 1786.5400390625,\n",
       " 1781.0,\n",
       " 1810.6500244140625,\n",
       " 1809.5999755859375,\n",
       " 1818.3199462890625,\n",
       " 1827.989990234375,\n",
       " 1833.3199462890625,\n",
       " 1842.02001953125,\n",
       " 1841.39990234375,\n",
       " 1841.06982421875,\n",
       " ...]"
      ]
     },
     "execution_count": 22,
     "metadata": {},
     "output_type": "execute_result"
    }
   ],
   "execution_count": 22
  },
  {
   "cell_type": "code",
   "id": "8b6d03ba",
   "metadata": {
    "ExecuteTime": {
     "end_time": "2024-04-24T16:15:40.088638Z",
     "start_time": "2024-04-24T16:15:40.084334Z"
    }
   },
   "source": [
    "temp = pd.DataFrame(zip(prediction, actual_final), columns=[\"y_pred\", \"test\"])"
   ],
   "outputs": [],
   "execution_count": 23
  },
  {
   "cell_type": "code",
   "id": "77c01582",
   "metadata": {
    "ExecuteTime": {
     "end_time": "2024-04-24T16:15:40.915971Z",
     "start_time": "2024-04-24T16:15:40.911193Z"
    }
   },
   "source": [
    "temp"
   ],
   "outputs": [
    {
     "data": {
      "text/plain": [
       "           y_pred         test\n",
       "0     1129.623169  1146.979980\n",
       "1     1132.344482  1136.219971\n",
       "2     1132.266602  1145.680054\n",
       "3     1133.159302  1148.459961\n",
       "4     1134.441650  1136.030029\n",
       "...           ...          ...\n",
       "3590  4611.020508  5022.209961\n",
       "3591  4590.940430  5011.120117\n",
       "3592  4568.891602  4967.229980\n",
       "3593  4547.937500  5010.600098\n",
       "3594  4543.993652  5070.549805\n",
       "\n",
       "[3595 rows x 2 columns]"
      ],
      "text/html": [
       "<div>\n",
       "<style scoped>\n",
       "    .dataframe tbody tr th:only-of-type {\n",
       "        vertical-align: middle;\n",
       "    }\n",
       "\n",
       "    .dataframe tbody tr th {\n",
       "        vertical-align: top;\n",
       "    }\n",
       "\n",
       "    .dataframe thead th {\n",
       "        text-align: right;\n",
       "    }\n",
       "</style>\n",
       "<table border=\"1\" class=\"dataframe\">\n",
       "  <thead>\n",
       "    <tr style=\"text-align: right;\">\n",
       "      <th></th>\n",
       "      <th>y_pred</th>\n",
       "      <th>test</th>\n",
       "    </tr>\n",
       "  </thead>\n",
       "  <tbody>\n",
       "    <tr>\n",
       "      <th>0</th>\n",
       "      <td>1129.623169</td>\n",
       "      <td>1146.979980</td>\n",
       "    </tr>\n",
       "    <tr>\n",
       "      <th>1</th>\n",
       "      <td>1132.344482</td>\n",
       "      <td>1136.219971</td>\n",
       "    </tr>\n",
       "    <tr>\n",
       "      <th>2</th>\n",
       "      <td>1132.266602</td>\n",
       "      <td>1145.680054</td>\n",
       "    </tr>\n",
       "    <tr>\n",
       "      <th>3</th>\n",
       "      <td>1133.159302</td>\n",
       "      <td>1148.459961</td>\n",
       "    </tr>\n",
       "    <tr>\n",
       "      <th>4</th>\n",
       "      <td>1134.441650</td>\n",
       "      <td>1136.030029</td>\n",
       "    </tr>\n",
       "    <tr>\n",
       "      <th>...</th>\n",
       "      <td>...</td>\n",
       "      <td>...</td>\n",
       "    </tr>\n",
       "    <tr>\n",
       "      <th>3590</th>\n",
       "      <td>4611.020508</td>\n",
       "      <td>5022.209961</td>\n",
       "    </tr>\n",
       "    <tr>\n",
       "      <th>3591</th>\n",
       "      <td>4590.940430</td>\n",
       "      <td>5011.120117</td>\n",
       "    </tr>\n",
       "    <tr>\n",
       "      <th>3592</th>\n",
       "      <td>4568.891602</td>\n",
       "      <td>4967.229980</td>\n",
       "    </tr>\n",
       "    <tr>\n",
       "      <th>3593</th>\n",
       "      <td>4547.937500</td>\n",
       "      <td>5010.600098</td>\n",
       "    </tr>\n",
       "    <tr>\n",
       "      <th>3594</th>\n",
       "      <td>4543.993652</td>\n",
       "      <td>5070.549805</td>\n",
       "    </tr>\n",
       "  </tbody>\n",
       "</table>\n",
       "<p>3595 rows × 2 columns</p>\n",
       "</div>"
      ]
     },
     "execution_count": 24,
     "metadata": {},
     "output_type": "execute_result"
    }
   ],
   "execution_count": 24
  },
  {
   "cell_type": "code",
   "id": "56ceba8a-9812-406a-9574-5ec9db9b3a8d",
   "metadata": {
    "ExecuteTime": {
     "end_time": "2024-04-24T16:15:41.812254Z",
     "start_time": "2024-04-24T16:15:41.420130Z"
    }
   },
   "source": [
    "fig = plt.figure(figsize=(10, 5))\n",
    "sns.lineplot(data=temp, x=temp.index, y=\"y_pred\", label=\"Predicted\")\n",
    "sns.lineplot(data=temp, x=temp.index, y=\"test\", label=\"Actual\")\n",
    "plt.show()"
   ],
   "outputs": [
    {
     "data": {
      "text/plain": [
       "<Figure size 1000x500 with 1 Axes>"
      ],
      "image/png": "[encoded data removed]"
     },
     "metadata": {
      "image/png": {
       "width": 854,
       "height": 446
      }
     },
     "output_type": "display_data"
    }
   ],
   "execution_count": 25
  },
  {
   "cell_type": "code",
   "execution_count": 330,
   "id": "456862a3",
   "metadata": {},
   "outputs": [],
   "source": [
    "model.eval()\n",
    "torch.onnx.export(\n",
    "    model, torch.zeros(1, 5, 1), \"./model/TimeSeries_LSTM.onnx\", export_params=True\n",
    ")"
   ]
  },
  {
   "cell_type": "code",
   "execution_count": null,
   "id": "f1d05437",
   "metadata": {},
   "outputs": [],
   "source": []
  }
 ],
 "metadata": {
  "kernelspec": {
   "display_name": "Python 3 (ipykernel)",
   "language": "python",
   "name": "python3"
  },
  "language_info": {
   "codemirror_mode": {
    "name": "ipython",
    "version": 3
   },
   "file_extension": ".py",
   "mimetype": "text/x-python",
   "name": "python",
   "nbconvert_exporter": "python",
   "pygments_lexer": "ipython3",
   "version": "3.10.13"
  }
 },
 "nbformat": 4,
 "nbformat_minor": 5
}
